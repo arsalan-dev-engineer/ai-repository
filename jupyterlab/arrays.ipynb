{
 "cells": [
  {
   "cell_type": "markdown",
   "id": "b17d0abd-01c6-4a7e-a55c-d9771550956e",
   "metadata": {},
   "source": [
    "**Arrays**\n",
    "<br>\n",
    "**NumPy**"
   ]
  },
  {
   "cell_type": "markdown",
   "id": "a021cfb0-653f-4398-9c2c-6a6e6b025113",
   "metadata": {},
   "source": [
    "**Two-dimensional arrays**\n",
    "<br>\n",
    "A two-dimensional array is a collection of data arranged in rows and columns, resembling a matrix. Each element can be accessed using two indices: one for the row and one for the column.\n",
    "<br>\n",
    "**Summary**\n",
    "<br>\n",
    "Two-dimensional arrays are like matrices with rows and columns, representing a single table of data."
   ]
  },
  {
   "cell_type": "code",
   "execution_count": 10,
   "id": "10183b9e-3a23-40ab-a41f-31a8b423c738",
   "metadata": {},
   "outputs": [],
   "source": [
    "import numpy as np"
   ]
  },
  {
   "cell_type": "code",
   "execution_count": 33,
   "id": "2a806ed2-91e0-4e84-a101-a62f60d03020",
   "metadata": {},
   "outputs": [
    {
     "name": "stdout",
     "output_type": "stream",
     "text": [
      "[[1 2 3]\n",
      " [4 5 6]\n",
      " [7 8 9]]\n"
     ]
    }
   ],
   "source": [
    "two_dimensional_array = np.array([[1, 2, 3],\n",
    "                                 [4, 5, 6],\n",
    "                                 [7, 8, 9]])\n",
    "\n",
    "print(two_dimensional_array)\n"
   ]
  },
  {
   "cell_type": "code",
   "execution_count": 34,
   "id": "4b679cd8-51d3-427d-9fe4-d0b252add270",
   "metadata": {},
   "outputs": [
    {
     "name": "stdout",
     "output_type": "stream",
     "text": [
      "['Arsalan' 'Azzy' 'arsalan.azzy@random.com' '28']\n",
      "['Muhammad' 'Azzy' 'muhammad.azzy@random.com' '26']\n"
     ]
    }
   ],
   "source": [
    "# example of a 2d array with employees data\n",
    "td_employee = np.array([\n",
    "    [\"Arsalan\", \"Azzy\", \"arsalan.azzy@random.com\", 28],\n",
    "    [\"Muhammad\", \"Azzy\", \"muhammad.azzy@random.com\", 26]\n",
    "])\n",
    "\n",
    "# printing employee details\n",
    "for employee in td_employee:\n",
    "    print(employee)\n",
    "    "
   ]
  },
  {
   "cell_type": "code",
   "execution_count": null,
   "id": "8d57ee90-9a37-4957-b01e-be7dd0487261",
   "metadata": {},
   "outputs": [],
   "source": []
  },
  {
   "cell_type": "markdown",
   "id": "b79053ea-2880-4b7c-828f-22c5246bc922",
   "metadata": {},
   "source": [
    "**Three-dimensional arrays**\n",
    "<br>\n",
    "A three-dimensional array is a collection of two-dimensional arrays, forming a cube of data. Each element can be accessed using three indices: one for the depth (or layer), one for the row, and one for the column.\n",
    "<br>\n",
    "**Summary**\n",
    "<br>\n",
    "Three-dimensional arrays can be thought of as a collection of two-dimensional arrays (or tables).\n",
    "<br>\n",
    "If you have an array with multiple two-dimensional tables (e.g., 20 tables), it is indeed a three-dimensional array. Each \"table\" would represent a separate two-dimensional array."
   ]
  },
  {
   "cell_type": "code",
   "execution_count": 35,
   "id": "f23285e9-081e-4492-b993-0559d07db135",
   "metadata": {},
   "outputs": [
    {
     "name": "stdout",
     "output_type": "stream",
     "text": [
      "[[[1 2 3]\n",
      "  [4 5 6]]\n",
      "\n",
      " [[1 2 3]\n",
      "  [4 5 6]]]\n"
     ]
    }
   ],
   "source": [
    "three_dimensional_array = np.array([[[1, 2, 3],\n",
    "                                    [4, 5, 6]],\n",
    "                                    \n",
    "                                   [[1, 2, 3],\n",
    "                                   [4, 5, 6]]])\n",
    "\n",
    "print(three_dimensional_array)\n"
   ]
  },
  {
   "cell_type": "code",
   "execution_count": 32,
   "id": "db0a644d-4b6f-4f80-bf3a-0eefe4336d0b",
   "metadata": {},
   "outputs": [
    {
     "name": "stdout",
     "output_type": "stream",
     "text": [
      "[[[2 5 7 1]\n",
      "  [1 8 1 4]\n",
      "  [3 5 7 2]]\n",
      "\n",
      " [[1 8 6 8]\n",
      "  [8 5 4 7]\n",
      "  [4 2 5 6]]\n",
      "\n",
      " [[7 3 2 8]\n",
      "  [5 3 5 6]\n",
      "  [8 2 6 1]]\n",
      "\n",
      " [[5 2 5 8]\n",
      "  [4 1 2 7]\n",
      "  [4 3 4 3]]\n",
      "\n",
      " [[5 7 3 4]\n",
      "  [1 3 6 6]\n",
      "  [5 9 3 5]]]\n"
     ]
    }
   ],
   "source": [
    "# array with 5 tables, 3 rows, 4 columns\n",
    "tda = np.random.randint(1, 10, size=(5, 3, 4))\n",
    "print(tda)\n"
   ]
  },
  {
   "cell_type": "code",
   "execution_count": 41,
   "id": "321faf59-212c-4fd9-980c-27d1a83a524b",
   "metadata": {},
   "outputs": [
    {
     "name": "stdout",
     "output_type": "stream",
     "text": [
      "[['BMW 3 series' 'BMW 2 series' 'BMW 1 series']\n",
      " ['BMW I8' 'BMW I5' 'BMW X6']]\n",
      "\n",
      "[['Mercedes GLA' 'Mercedes C Class' 'Mercedes CLA']\n",
      " ['Mercedes GLB' 'Mercedes EQE SUV' 'Mercedes GLC']]\n",
      "\n"
     ]
    }
   ],
   "source": [
    "import numpy as np\n",
    "\n",
    "# Creating a 3D NumPy array called td_vehicles\n",
    "td_vehicles = np.array([\n",
    "    # First layer (group 1): BMW vehicles\n",
    "    [\n",
    "        # First row of group 1\n",
    "        [\"BMW 3 series\", \"BMW 2 series\", \"BMW 1 series\"],  # 3 BMW models in the first row\n",
    "        # Second row of group 1\n",
    "        [\"BMW I8\", \"BMW I5\", \"BMW X6\"]  # 3 BMW models in the second row\n",
    "    ],\n",
    "    # Second layer (group 2): Mercedes vehicles\n",
    "    [\n",
    "        # First row of group 2\n",
    "        [\"Mercedes GLA\", \"Mercedes C Class\", \"Mercedes CLA\"],  # 3 Mercedes models in the first row\n",
    "        # Second row of group 2\n",
    "        [\"Mercedes GLB\", \"Mercedes EQE SUV\", \"Mercedes GLC\"]  # 3 Mercedes models in the second row\n",
    "    ]\n",
    "])\n",
    "\n",
    "# Iterating over each group in the 3D array\n",
    "for vehicle in td_vehicles:\n",
    "    print(vehicle, end=\"\\n\\n\")  # Print each 2D group (layer) of vehicles\n"
   ]
  },
  {
   "cell_type": "markdown",
   "id": "3bd9ae65-fd67-496c-8565-799310fa90c3",
   "metadata": {},
   "source": [
    "**Notes**\n",
    "<br>\n",
    "* In NumPy arrays, indexing follows the row-major order, which means the first index refers to the row, and the second index refers to the column.\n",
    "* Axes in NumPy:\n",
    "  * Axis 0: Operates down columns (vertical direction).\n",
    "  * Axis 1: Operates across rows (horizontal direction)."
   ]
  },
  {
   "cell_type": "code",
   "execution_count": null,
   "id": "d55949bb-11b3-4c17-ace2-8fec67cb6192",
   "metadata": {},
   "outputs": [],
   "source": []
  }
 ],
 "metadata": {
  "kernelspec": {
   "display_name": "Python 3 (ipykernel)",
   "language": "python",
   "name": "python3"
  },
  "language_info": {
   "codemirror_mode": {
    "name": "ipython",
    "version": 3
   },
   "file_extension": ".py",
   "mimetype": "text/x-python",
   "name": "python",
   "nbconvert_exporter": "python",
   "pygments_lexer": "ipython3",
   "version": "3.10.12"
  }
 },
 "nbformat": 4,
 "nbformat_minor": 5
}
