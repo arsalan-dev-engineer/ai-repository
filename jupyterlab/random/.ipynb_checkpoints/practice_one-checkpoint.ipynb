{
 "cells": [
  {
   "cell_type": "code",
   "execution_count": 8,
   "id": "ce4a71b7-36f0-4b15-8204-758d5a87dd53",
   "metadata": {},
   "outputs": [
    {
     "name": "stdout",
     "output_type": "stream",
     "text": [
      "[9, 8, 7, 6, 5, 4, 3, 2, 1]\n"
     ]
    }
   ],
   "source": [
    "def reverse_seq(nums):\n",
    "    numbers = []\n",
    "    for n in range(nums, 0, -1):\n",
    "        numbers.append(n)\n",
    "    print(numbers)\n",
    "\n",
    "reverse_seq(9)"
   ]
  },
  {
   "cell_type": "code",
   "execution_count": 9,
   "id": "7ba198f2-c1d6-4cde-960c-600838dec0f7",
   "metadata": {},
   "outputs": [
    {
     "data": {
      "text/plain": [
       "[9, 8, 7, 6, 5, 4, 3, 2, 1]"
      ]
     },
     "execution_count": 9,
     "metadata": {},
     "output_type": "execute_result"
    }
   ],
   "source": [
    "def reverse_seq(nums):\n",
    "    return [n for n in range(nums, 0, -1)]\n",
    "\n",
    "reverse_seq(9)"
   ]
  },
  {
   "cell_type": "code",
   "execution_count": 10,
   "id": "297d7c15-8ccd-4096-8085-f181119536fa",
   "metadata": {},
   "outputs": [
    {
     "name": "stdout",
     "output_type": "stream",
     "text": [
      "My list:\n",
      "['apple', 'banana', 'orange', 'kiwi']\n",
      "My list 2:\n",
      "['apple', 'orange', 'kiwi']\n",
      "My list 3:\n",
      "['apple', 'orange']\n",
      "My list 4:\n",
      "['apple', 'orange', 'oranges']\n",
      "My list reversed:\n",
      "['oranges', 'orange', 'apple']\n"
     ]
    }
   ],
   "source": [
    "mylist = [\"apple\", \"banana\", \"orange\", \"kiwi\"]\n",
    "print(f\"My list:\\n{mylist}\")\n",
    "mylist.remove(mylist[1])\n",
    "print(f\"My list 2:\\n{mylist}\")\n",
    "mylist.remove(\"kiwi\")\n",
    "print(f\"My list 3:\\n{mylist}\")\n",
    "mylist.append(\"oranges\")\n",
    "print(f\"My list 4:\\n{mylist}\")\n",
    "mylist.reverse()\n",
    "print(f\"My list reversed:\\n{mylist}\")"
   ]
  }
 ],
 "metadata": {
  "kernelspec": {
   "display_name": "Python 3 (ipykernel)",
   "language": "python",
   "name": "python3"
  },
  "language_info": {
   "codemirror_mode": {
    "name": "ipython",
    "version": 3
   },
   "file_extension": ".py",
   "mimetype": "text/x-python",
   "name": "python",
   "nbconvert_exporter": "python",
   "pygments_lexer": "ipython3",
   "version": "3.10.12"
  }
 },
 "nbformat": 4,
 "nbformat_minor": 5
}
