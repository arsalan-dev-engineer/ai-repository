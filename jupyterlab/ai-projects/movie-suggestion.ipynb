{
 "cells": [
  {
   "cell_type": "markdown",
   "id": "93f71f8e-8f3e-476c-b8d9-4a1bcedcbb6b",
   "metadata": {},
   "source": [
    "**Movie Recommendation System**\n",
    "\n",
    "Description: Use lists to create a basic movie recommendation system that suggests movies based on genres.\n",
    "\n",
    "Steps:\n",
    "* Create a dictionary where each genre is a key with a list of movies as values.\n",
    "* Ask the user to enter a genre.\n",
    "* Print out the movies that match the chosen genre.\n",
    "\n",
    "Example Code"
   ]
  },
  {
   "cell_type": "code",
   "execution_count": null,
   "id": "f98a6886-59d7-4dfd-b135-13440a5af5eb",
   "metadata": {},
   "outputs": [],
   "source": [
    "movies = {\n",
    "    \"action\": [\"Mad Max\", \"John Wick\"],\n",
    "    \"comedy\": [\"Superbad\", \"Step Brothers\"],\n",
    "    \"drama\": [\"Forrest Gump\", \"The Shawshank Redemption\"]\n",
    "}\n",
    "genre = input(\"Enter a genre (action, comedy, drama): \").lower()\n",
    "recommendations = movies.get(genre, [])\n",
    "print(\"Recommended Movies:\", recommendations if recommendations else \"No movies found.\")\n"
   ]
  }
 ],
 "metadata": {
  "kernelspec": {
   "display_name": "Python 3 (ipykernel)",
   "language": "python",
   "name": "python3"
  },
  "language_info": {
   "codemirror_mode": {
    "name": "ipython",
    "version": 3
   },
   "file_extension": ".py",
   "mimetype": "text/x-python",
   "name": "python",
   "nbconvert_exporter": "python",
   "pygments_lexer": "ipython3",
   "version": "3.10.12"
  }
 },
 "nbformat": 4,
 "nbformat_minor": 5
}
