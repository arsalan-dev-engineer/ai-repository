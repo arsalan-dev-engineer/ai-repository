{
 "cells": [
  {
   "cell_type": "markdown",
   "id": "345f6993-6953-43e0-8ef3-cfa676bb76db",
   "metadata": {},
   "source": [
    "**Number Predictor (Basic Machine Learning Simulation)**\n",
    "\n",
    "Description:\n",
    "\n",
    "This project simulates a simple \"predictor\" that attempts to guess a secret number. The predictor starts with a wide range and gradually narrows down the possible numbers based on feedback from each guess. The feedback will indicate if each guess is \"too high\" or \"too low,\" helping the predictor zero in on the correct number.\n",
    "\n",
    "Steps:\n",
    "* Generate a random number as the \"secret number.\"\n",
    "* The predictor makes an initial guess and stores each guess in a list.\n",
    "* Based on feedback (\"too high\" or \"too low\"), the predictor adjusts the guessing range.\n",
    "* The predictor continues adjusting until it finds the correct number\n",
    "\n",
    "Code:"
   ]
  },
  {
   "cell_type": "code",
   "execution_count": 1,
   "id": "eae8bcf2-1482-420d-884d-ee462ba0cd7f",
   "metadata": {},
   "outputs": [],
   "source": [
    "import random"
   ]
  },
  {
   "cell_type": "code",
   "execution_count": 2,
   "id": "d8ed9ef0-e1cd-4394-8fa5-17ef55d061a1",
   "metadata": {},
   "outputs": [
    {
     "name": "stdout",
     "output_type": "stream",
     "text": [
      "Guess '0': too low.\n",
      "Guess '500': too low.\n",
      "Guess '750': too high.\n",
      "Guess '625': too low.\n",
      "Guess '687': too high.\n",
      "Guess '656': too low.\n",
      "Guess '671': too high.\n",
      "Guess '663': too high.\n",
      "Guess '659': too high.\n",
      "\n",
      "COMPLETE:\n",
      "Secret number is '657'.\n",
      "\n",
      "GUESSES:\n",
      "[0, 500, 750, 625, 687, 656, 671, 663, 659, 657]\n"
     ]
    }
   ],
   "source": [
    "# generate a random secret number between -1000 and 1000\n",
    "secret_number = random.randint(-1000, 1000)\n",
    "\n",
    "# set the guess range\n",
    "low, high = -1000, 1000\n",
    "# create a list to store guesses\n",
    "guesses = []\n",
    "\n",
    "# set the 'guess' variable as None, as no guesses have been made yet\n",
    "guess = None\n",
    "\n",
    "# condition to loop until guess matches secret_number\n",
    "while guess != secret_number:\n",
    "    # calculate the midpoint of the current range as the next guess\n",
    "    # the midpoint is recalculated on each iteration to keep narrowing down the range\n",
    "    guess = (low + high) // 2\n",
    "    # store the guess in the list of guesses\n",
    "    guesses.append(guess)\n",
    "\n",
    "    if guess < secret_number:\n",
    "        print(f\"Guess '{guess}': too low.\")\n",
    "        # move the lower bound up, as the secret number is higher\n",
    "        low = guess + 1\n",
    "        \n",
    "    elif guess > secret_number:\n",
    "        print(f\"Guess '{guess}': too high.\")\n",
    "        # move the higher bound down, as the secret number is lower\n",
    "        high = guess - 1\n",
    "    else:\n",
    "        print(f\"\\nCOMPLETE:\\nSecret number is '{guess}'.\")\n",
    "\n",
    "# print the list of all the guesses made during the process\n",
    "print(f\"\\nGUESSES:\\n{guesses}\")"
   ]
  },
  {
   "cell_type": "code",
   "execution_count": 5,
   "id": "dbca8181-902c-4347-8ab2-20535fc83f14",
   "metadata": {},
   "outputs": [
    {
     "name": "stdout",
     "output_type": "stream",
     "text": [
      "Guess '0' too low.\n",
      "Guess '500' too low.\n",
      "Guess '750' too low.\n",
      "Guess '875' too low.\n",
      "Guess '938' too high.\n",
      "Guess '906' too high.\n",
      "Guess '890' too low.\n",
      "Guess '898' too high.\n",
      "Guess '894' too high.\n",
      "Guess '892' too high.\n",
      "Game Over\n",
      "SECRET: 891\n",
      "All guesses:\n",
      "[0, 500, 750, 875, 938, 906, 890, 898, 894, 892, 891]\n"
     ]
    }
   ],
   "source": [
    "def number_predictor():\n",
    "    # generate a random secret number\n",
    "    secret_number = random.randint(-1000, 1000)\n",
    "    # set the guess range\n",
    "    low, high = -1000, 1000\n",
    "    # store guesses\n",
    "    guesses = []\n",
    "    # set this variable to 'None' as no guesses have been made yet\n",
    "    guess = None\n",
    "    while guess != secret_number:\n",
    "        # calculate the midppoint of the current range as the next guess\n",
    "        guess = (low + high) // 2\n",
    "        # store guesses into list\n",
    "        guesses.append(guess)\n",
    "\n",
    "        if guess > secret_number:\n",
    "            print(f\"Guess '{guess}' too high.\")\n",
    "            # move the higher bound down, as the secret number is lower\n",
    "            high = guess - 1\n",
    "\n",
    "        elif guess < secret_number:\n",
    "            print(f\"Guess '{guess}' too low.\")\n",
    "            # move the lower bound up, as the secret number is higher\n",
    "            low = guess + 1\n",
    "        else:\n",
    "            # print the secret number\n",
    "            print(f\"Game Over\\nSECRET: {secret_number}\")\n",
    "\n",
    "    # print all the guesses\n",
    "    print(f\"All guesses:\\n{guesses}\")\n",
    "\n",
    "\n",
    "number_predictor()"
   ]
  },
  {
   "cell_type": "code",
   "execution_count": null,
   "id": "ad7f3bef-4f5b-4ef1-9572-bf78f72a4944",
   "metadata": {},
   "outputs": [],
   "source": []
  },
  {
   "cell_type": "code",
   "execution_count": null,
   "id": "916d1af8-cb2a-41d8-833f-6b0dc1aeefd9",
   "metadata": {},
   "outputs": [],
   "source": []
  },
  {
   "cell_type": "code",
   "execution_count": null,
   "id": "42b859b8-919e-40b8-98c0-5894cce7332b",
   "metadata": {},
   "outputs": [],
   "source": []
  }
 ],
 "metadata": {
  "kernelspec": {
   "display_name": "Python 3 (ipykernel)",
   "language": "python",
   "name": "python3"
  },
  "language_info": {
   "codemirror_mode": {
    "name": "ipython",
    "version": 3
   },
   "file_extension": ".py",
   "mimetype": "text/x-python",
   "name": "python",
   "nbconvert_exporter": "python",
   "pygments_lexer": "ipython3",
   "version": "3.10.12"
  }
 },
 "nbformat": 4,
 "nbformat_minor": 5
}
