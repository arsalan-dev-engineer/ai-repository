{
 "cells": [
  {
   "cell_type": "markdown",
   "id": "8f303d7e-606d-465d-9164-f89f0600285b",
   "metadata": {},
   "source": [
    "**Spam Detection Simulation**\n",
    "\n",
    "Description: Create a basic spam detection program by maintaining a list of spam keywords (like \"win\", \"free\", \"click here\"). The program should check if an input message contains any of these keywords.\n",
    "\n",
    "Steps:\n",
    "* Create a list of spam keywords.\n",
    "* Take an input message from the user.\n",
    "* Check if any word in the message matches the spam keywords.\n",
    "\n",
    "Example Code:"
   ]
  },
  {
   "cell_type": "code",
   "execution_count": 16,
   "id": "29185133-c51b-4798-9f27-52880ff77915",
   "metadata": {},
   "outputs": [
    {
     "name": "stdin",
     "output_type": "stream",
     "text": [
      "Enter a message:  Hello, you're a winner, today only\n"
     ]
    },
    {
     "name": "stdout",
     "output_type": "stream",
     "text": [
      "This is a spam.\n"
     ]
    }
   ],
   "source": [
    "# list of common spam keywords that may appear in spam messages\n",
    "spam_keywords = [\n",
    "    \"win\", \"free\", \"click here\", \"buy now\", \"limited offer\", \"act now\",\n",
    "    \"exclusive deal\", \"congratulations\", \"urgent\", \"you've been selected\", \n",
    "    \"call now\", \"don't miss out\", \"risk-free\", \"prize\", \"money back\",\n",
    "    \"guaranteed\", \"no cost\", \"earn money\", \"get rich\", \"double your\",\n",
    "    \"discount\", \"only today\", \"instant access\", \"secret\", \"promise\", \n",
    "    \"apply now\", \"claim now\", \"winner\", \"offer expires\", \"once in a lifetime\",\n",
    "    \"no obligation\", \"special promotion\", \"unlimited\", \"trial\", \"amazing\",\n",
    "    \"investment\", \"refund\", \"clearance\", \"cheap\", \"order now\", \"as seen on\",\n",
    "    \"do not delete\", \"this isn't spam\", \"important message\", \"easy money\", \n",
    "    \"urgent response needed\", \"free access\", \"join millions\", \"miracle\",\n",
    "    \"big bucks\", \"promise results\", \"fast cash\", \"dear friend\", \"bulk email\",\n",
    "    \"work from home\", \"act fast\", \"risk-free trial\", \"profit\", \"income\", \n",
    "    \"meet singles\", \"winner guaranteed\", \"pre-approved\", \"instant cash\",\n",
    "    \"cash bonus\", \"rewards\", \"apply today\", \"hot deal\", \"hurry up\", \"lowest price\",\n",
    "    \"best price\", \"100% satisfied\", \"satisfaction guaranteed\", \"don't wait\",\n",
    "    \"order today\", \"today only\", \"loans\", \"consolidate debt\", \"reduce debt\"\n",
    "]\n",
    "\n",
    "message = input(\"Enter a message: \")\n",
    "is_spam = any(keyword in message for keyword in spam_keywords)\n",
    "print(\"This is a spam.\" if is_spam else \"This is not a spam.\")\n"
   ]
  },
  {
   "cell_type": "code",
   "execution_count": null,
   "id": "f298fa4f-79a5-4c13-b110-8f4b8ac06386",
   "metadata": {},
   "outputs": [],
   "source": []
  },
  {
   "cell_type": "code",
   "execution_count": null,
   "id": "5d73d10b-1849-4c24-be6a-9050eb2631d4",
   "metadata": {},
   "outputs": [],
   "source": []
  },
  {
   "cell_type": "code",
   "execution_count": null,
   "id": "03a161e1-b4a9-4573-a758-7bdd366a17c0",
   "metadata": {},
   "outputs": [],
   "source": []
  }
 ],
 "metadata": {
  "kernelspec": {
   "display_name": "Python 3 (ipykernel)",
   "language": "python",
   "name": "python3"
  },
  "language_info": {
   "codemirror_mode": {
    "name": "ipython",
    "version": 3
   },
   "file_extension": ".py",
   "mimetype": "text/x-python",
   "name": "python",
   "nbconvert_exporter": "python",
   "pygments_lexer": "ipython3",
   "version": "3.10.12"
  }
 },
 "nbformat": 4,
 "nbformat_minor": 5
}
