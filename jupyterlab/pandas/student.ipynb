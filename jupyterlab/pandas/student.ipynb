{
 "cells": [
  {
   "cell_type": "markdown",
   "id": "e40399db-956e-4b89-b045-1cdbcae72619",
   "metadata": {},
   "source": [
    "**Student Grades and Academic Performance**\n",
    "\n",
    "Columns:\n",
    "* Student ID.\n",
    "* Student Name.\n",
    "* Major.\n",
    "* Assignment Score.\n",
    "* Exam Score.\n",
    "* Total Score.\n",
    "* Grade.\n",
    "* Date\n",
    "\n",
    "Features: Generate records for students with scores in various subjects, calculate grades, and track academic performance.\n",
    "\n",
    "Manipulation Ideas:\n",
    "* Filter for top-performing students.\n",
    "* Group by class to find class-wise performance.\n",
    "* Identify majors with the highest and lowest average scores.\n",
    "* Create a grade distribution chart."
   ]
  },
  {
   "cell_type": "code",
   "execution_count": 187,
   "id": "dff88cbe-55da-449d-b716-76f1945d6ace",
   "metadata": {},
   "outputs": [],
   "source": [
    "# import required libraries\n",
    "import random\n",
    "import datetime\n",
    "import faker\n",
    "import pandas as pd\n",
    "import numpy as np\n",
    "import matplotlib.pyplot as plt"
   ]
  },
  {
   "cell_type": "code",
   "execution_count": 198,
   "id": "92bb7039-bff8-466f-b337-035765eb686a",
   "metadata": {},
   "outputs": [],
   "source": [
    "fake = faker.Faker()\n",
    "\n",
    "# list of available courses\n",
    "major = [\n",
    "    \"Computer Science\",\n",
    "    \"Computer Science & AI\",\n",
    "    \"Computer Farensics\",\n",
    "    \"Information Technology\",\n",
    "    \"Cybersecurity\",\n",
    "    \"Web Development\",\n",
    "    \"Software Engineer\",\n",
    "    \"DevOps Engineer\",\n",
    "    \"App Development\",\n",
    "    \"Network Engineer\"\n",
    "]\n",
    "\n",
    "# populate the data table\n",
    "data = {\n",
    "    \"Student ID\": [f\"ST{(np.random.randint(0, 999999)):06d}\" for si in range(150)],\n",
    "    \"First Name\": [f\"{fake.first_name()}\" for fn in range(150)],\n",
    "    \"Last Name\": [f\"{fake.last_name()}\" for ln in range(150)],\n",
    "    # assign a random course to each student in our DataFrame\n",
    "    \"Major\": [np.random.choice(major) for c in range(150)],\n",
    "    \"Assignment Score (%)\": [np.random.randint(0, 100) for sc in range(150)],\n",
    "    \"Exam Score (%)\": [np.random.randint(0, 100) for es in range(150)]\n",
    "}"
   ]
  },
  {
   "cell_type": "code",
   "execution_count": 199,
   "id": "d91d6135-120f-45f2-9a6d-25bd171fcf18",
   "metadata": {},
   "outputs": [],
   "source": [
    "# convert data into a pandas dataframe\n",
    "# A DataFrame is a data structure with rows and columns, like a database or spreadsheet.\n",
    "df = pd.DataFrame(data)"
   ]
  },
  {
   "cell_type": "code",
   "execution_count": 200,
   "id": "963cf9ec-bb4b-4bb7-bd7c-430984c17de4",
   "metadata": {},
   "outputs": [],
   "source": [
    "# generate email addresses by concatenating first and last names with the domain \"@student.ac.uk\"\n",
    "em = [f\"{first.lower()}.{last.lower()}@student.ac.uk\" for first, last in zip(df[\"First Name\"], df[\"Last Name\"])]\n",
    "df.insert(3, \"Email Address\", em)"
   ]
  },
  {
   "cell_type": "code",
   "execution_count": 201,
   "id": "0ead3d52-05d6-45ce-976f-5f2568bc581d",
   "metadata": {},
   "outputs": [],
   "source": [
    "# calculate the total score: 40% from assignment score and 60% from exam score\n",
    "df[\"Total Score\"] = (df[\"Assignment Score (%)\"] * 0.4 + df[\"Exam Score (%)\"] * 0.6).round(2)\n",
    "\n",
    "# function to calculate the grade based on the total score\n",
    "def calculate_grade(total_score):\n",
    "    if total_score >= 70:\n",
    "        return \"1st\"\n",
    "    elif 60 <= total_score < 70:\n",
    "        return \"2:1\"\n",
    "    elif 50 <= total_score < 60:\n",
    "        return \"2:2\"\n",
    "    elif 40 <= total_score < 50:\n",
    "        return \"3rd\"\n",
    "    else:\n",
    "        return \"Fail\"\n",
    "\n",
    "# apply the grade calculation function to the total score column\n",
    "df[\"Grade\"] = df[\"Total Score\"].apply(calculate_grade)"
   ]
  },
  {
   "cell_type": "code",
   "execution_count": 203,
   "id": "a768fe09-4ef6-428e-aa4b-262bf17ee7a1",
   "metadata": {},
   "outputs": [
    {
     "name": "stdout",
     "output_type": "stream",
     "text": [
      "  Student ID First Name Last Name                 Email Address  \\\n",
      "0   ST452584     Donald    Nelson   donald.nelson@student.ac.uk   \n",
      "1   ST849740       Ryan    Harris     ryan.harris@student.ac.uk   \n",
      "2   ST099840      David    Snyder    david.snyder@student.ac.uk   \n",
      "3   ST181692     Nicole    Jensen   nicole.jensen@student.ac.uk   \n",
      "4   ST374124     Amanda   Johnson  amanda.johnson@student.ac.uk   \n",
      "5   ST677577      Kelly  Williams  kelly.williams@student.ac.uk   \n",
      "6   ST443172    Phillip     Nolan   phillip.nolan@student.ac.uk   \n",
      "7   ST613478     Ronald       Ray      ronald.ray@student.ac.uk   \n",
      "8   ST612690       Sara    Rogers     sara.rogers@student.ac.uk   \n",
      "9   ST303618     Dustin   Gilmore  dustin.gilmore@student.ac.uk   \n",
      "\n",
      "                   Major  Assignment Score (%)  Exam Score (%)  Total Score  \\\n",
      "0        App Development                    40              57         50.2   \n",
      "1       Computer Science                    62              88         77.6   \n",
      "2  Computer Science & AI                    37              76         60.4   \n",
      "3          Cybersecurity                    28              37         33.4   \n",
      "4      Software Engineer                    40              40         40.0   \n",
      "5       Computer Science                     1              41         25.0   \n",
      "6        DevOps Engineer                    18              38         30.0   \n",
      "7       Computer Science                    54              39         45.0   \n",
      "8  Computer Science & AI                    96              56         72.0   \n",
      "9        App Development                    27              95         67.8   \n",
      "\n",
      "  Grade  \n",
      "0   2:2  \n",
      "1   1st  \n",
      "2   2:1  \n",
      "3  Fail  \n",
      "4   3rd  \n",
      "5  Fail  \n",
      "6  Fail  \n",
      "7   3rd  \n",
      "8   1st  \n",
      "9   2:1  \n"
     ]
    }
   ],
   "source": [
    "# display the first 10 rows of the DataFrame\n",
    "print(df.head(10))"
   ]
  },
  {
   "cell_type": "code",
   "execution_count": 204,
   "id": "9bd0a6c5-019a-4fc3-9be4-4630ee4893c6",
   "metadata": {},
   "outputs": [],
   "source": [
    "# save the DataFrame to a CSV file named \"student.csv\" with the index included\n",
    "df.to_csv(\"student.csv\", index=True)"
   ]
  },
  {
   "cell_type": "code",
   "execution_count": null,
   "id": "49a239f4-278c-49a6-8add-d95ca7e71c94",
   "metadata": {},
   "outputs": [],
   "source": []
  }
 ],
 "metadata": {
  "kernelspec": {
   "display_name": "Python 3 (ipykernel)",
   "language": "python",
   "name": "python3"
  },
  "language_info": {
   "codemirror_mode": {
    "name": "ipython",
    "version": 3
   },
   "file_extension": ".py",
   "mimetype": "text/x-python",
   "name": "python",
   "nbconvert_exporter": "python",
   "pygments_lexer": "ipython3",
   "version": "3.10.12"
  }
 },
 "nbformat": 4,
 "nbformat_minor": 5
}
