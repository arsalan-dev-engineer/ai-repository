{
 "cells": [
  {
   "cell_type": "code",
   "execution_count": 2,
   "id": "04aacfb7-f0ea-4c24-a554-9a7448838686",
   "metadata": {},
   "outputs": [
    {
     "name": "stdout",
     "output_type": "stream",
     "text": [
      "Random university student spreadsheet generated and saved as 'university_students.csv'.\n"
     ]
    }
   ],
   "source": [
    "import pandas as pd\n",
    "import random\n",
    "import faker\n",
    "\n",
    "# Initialize Faker to generate random names\n",
    "fake = faker.Faker()\n",
    "\n",
    "# Define some sample data options\n",
    "majors = [\"Computer Science\", \"Mathematics\", \"Physics\", \"Biology\", \"Chemistry\", \n",
    "          \"Economics\", \"Psychology\", \"History\", \"Political Science\", \"English\"]\n",
    "\n",
    "# Generate the data\n",
    "data = {\n",
    "    \"Student ID\": [f\"S{1000 + i}\" for i in range(100)],  # IDs like S1000, S1001, ...\n",
    "    \"Name\": [fake.name() for _ in range(100)],\n",
    "    \"Age\": [random.randint(18, 25) for _ in range(100)],  # Ages between 18 and 25\n",
    "    \"Major\": [random.choice(majors) for _ in range(100)],\n",
    "    \"GPA\": [round(random.uniform(2.0, 4.0), 2) for _ in range(100)],  # GPAs between 2.0 and 4.0\n",
    "    \"Study Hours per Week\": [random.randint(5, 40) for _ in range(100)],  # Hours from 5 to 40\n",
    "}\n",
    "\n",
    "# Create a DataFrame\n",
    "df = pd.DataFrame(data)\n",
    "\n",
    "# Save to CSV\n",
    "df.to_csv(\"university_students.csv\", index=False)\n",
    "\n",
    "print(\"Random university student spreadsheet generated and saved as 'university_students.csv'.\")\n"
   ]
  },
  {
   "cell_type": "markdown",
   "id": "d9e510eb-5a25-490d-9e64-58485aef9e1e",
   "metadata": {},
   "source": [
    "Employee Attendance and Time Tracking\n",
    "Columns: Employee ID, Date, Check-in Time, Check-out Time, Total Hours Worked, Overtime Hours, Work From Home (Yes/No)\n",
    "Features: Generate daily attendance records with random check-in and check-out times, calculate hours worked and overtime.\n",
    "Manipulation Ideas:\n",
    "Calculate total hours per employee over a period.\n",
    "Filter for late check-ins and early check-outs.\n",
    "Visualize patterns for work-from-home vs. office days.\n",
    "Calculate average hours worked per week or month.\n",
    "Identify employees with high overtime hours."
   ]
  },
  {
   "cell_type": "markdown",
   "id": "0282f21e-ff46-42f9-abde-bf129792aa8f",
   "metadata": {},
   "source": [
    "Retail Inventory Management\n",
    "Columns: Product ID, Product Name, Category, Supplier, Quantity in Stock, Reorder Level, Cost Price, Selling Price, Date Added\n",
    "Features: Simulate inventory management for a retail store with different product categories and suppliers.\n",
    "Manipulation Ideas:\n",
    "Calculate profit margin for each product.\n",
    "Identify items that need reordering based on quantity.\n",
    "Group by category to find the most stocked category.\n",
    "Track changes in stock levels over time.\n",
    "Forecast potential out-of-stock items."
   ]
  },
  {
   "cell_type": "markdown",
   "id": "00b9932b-ec2d-4807-9aca-ebb8b50f7f4b",
   "metadata": {},
   "source": [
    "Student Grades and Academic Performance\n",
    "Columns: Student ID, Student Name, Class, Subject, Assignment Score, Exam Score, Total Score, Grade, Date\n",
    "Features: Generate records for students with scores in various subjects, calculate grades, and track academic performance.\n",
    "Manipulation Ideas:\n",
    "Calculate average scores per subject.\n",
    "Filter for top-performing students or subjects.\n",
    "Group by class to find class-wise performance.\n",
    "Identify subjects with the highest and lowest average scores.\n",
    "Create a grade distribution chart.\n"
   ]
  },
  {
   "cell_type": "markdown",
   "id": "a441e0f8-e6eb-488a-b68c-678ab11f5838",
   "metadata": {},
   "source": [
    "Hospital Patient Records\n",
    "Columns: Patient ID, Patient Name, Age, Gender, Admission Date, Discharge Date, Diagnosis, Treatment, Doctor Assigned, Room Number\n",
    "Features: Generate hospital records for patients, tracking admissions, diagnoses, treatments, and discharge dates.\n",
    "Manipulation Ideas:\n",
    "Calculate length of stay for each patient.\n",
    "Group by diagnosis to find common illnesses.\n",
    "Track patient count trends over time.\n",
    "Identify doctors with the most assigned patients.\n",
    "Analyze average hospital stay duration for different treatments."
   ]
  },
  {
   "cell_type": "markdown",
   "id": "d2275fbe-51af-40c6-887b-e254b9c90b63",
   "metadata": {},
   "source": [
    "Product Reviews and Ratings\n",
    "Columns: Review ID, Customer ID, Product ID, Rating, Review Date, Review Text, Sentiment\n",
    "Features: Generate customer reviews for products, including a rating and sentiment (e.g., positive, negative).\n",
    "Manipulation Ideas:\n",
    "Calculate average rating per product.\n",
    "Filter for products with high/low ratings.\n",
    "Analyze review sentiment distribution.\n",
    "Identify most reviewed products.\n",
    "Calculate customer satisfaction trends over time."
   ]
  },
  {
   "cell_type": "markdown",
   "id": "2965e9db-09ce-4473-a4e5-98cdbddb2648",
   "metadata": {},
   "source": [
    "Bank Transactions\n",
    "Columns: Account Number, Customer Name, Transaction ID, Transaction Date, Transaction Type (e.g., Deposit, Withdrawal), Amount, Balance After Transaction\n",
    "Features: Simulate bank transactions with deposits and withdrawals.\n",
    "Manipulation Ideas:\n",
    "Calculate total deposits and withdrawals per account.\n",
    "Identify accounts with frequent transactions.\n",
    "Group transactions by month or year.\n",
    "Calculate balance trends for high-value accounts.\n",
    "Identify accounts with negative balances."
   ]
  },
  {
   "cell_type": "markdown",
   "id": "cab00492-cf70-4c75-b26d-cc3eb9616046",
   "metadata": {},
   "source": [
    "Website Analytics Data\n",
    "Columns: User ID, Visit Date, Page Viewed, Session Duration (seconds), Device Type, Browser, Country\n",
    "Features: Generate website analytics data, tracking user visits to different pages, session duration, and device/browser used.\n",
    "Manipulation Ideas:\n",
    "Calculate average session duration per page.\n",
    "Filter for mobile vs. desktop traffic.\n",
    "Identify most viewed pages.\n",
    "Group by country to analyze user locations.\n",
    "Track trends in user activity over time."
   ]
  },
  {
   "cell_type": "markdown",
   "id": "e8f48fdb-6197-4f34-b97d-bc6947c48273",
   "metadata": {},
   "source": [
    "Telecom Call Data Records (CDR)\n",
    "Columns: Call ID, Caller Number, Receiver Number, Call Date, Call Duration, Call Type (e.g., Local, STD, ISD), Charges\n",
    "Features: Generate call data records, including call duration and charges for different call types.\n",
    "Manipulation Ideas:\n",
    "Calculate total call charges per caller.\n",
    "Group by call type to find the most common type.\n",
    "Filter for high-duration calls.\n",
    "Track call patterns by time of day.\n",
    "Calculate average call duration and charges."
   ]
  },
  {
   "cell_type": "markdown",
   "id": "137104b3-99e7-4c89-8447-fce9a9d8cfd7",
   "metadata": {},
   "source": [
    "Real Estate Property Listings\n",
    "Columns: Property ID, Property Type, Location, Listing Date, Price, Square Footage, Bedrooms, Bathrooms, Agent, Listing Status (e.g., Available, Sold)\n",
    "Features: Generate property listings with details like price, location, and status.\n",
    "Manipulation Ideas:\n",
    "Calculate average price per square foot.\n",
    "Filter for available properties in a specific location.\n",
    "Group by property type to find common listings.\n",
    "Track trends in property prices over time.\n",
    "Calculate average listing time before sale.\n"
   ]
  },
  {
   "cell_type": "code",
   "execution_count": null,
   "id": "fba5b4f0-8fa5-4278-855a-b71b1808f330",
   "metadata": {},
   "outputs": [],
   "source": []
  }
 ],
 "metadata": {
  "kernelspec": {
   "display_name": "Python 3 (ipykernel)",
   "language": "python",
   "name": "python3"
  },
  "language_info": {
   "codemirror_mode": {
    "name": "ipython",
    "version": 3
   },
   "file_extension": ".py",
   "mimetype": "text/x-python",
   "name": "python",
   "nbconvert_exporter": "python",
   "pygments_lexer": "ipython3",
   "version": "3.10.12"
  }
 },
 "nbformat": 4,
 "nbformat_minor": 5
}
