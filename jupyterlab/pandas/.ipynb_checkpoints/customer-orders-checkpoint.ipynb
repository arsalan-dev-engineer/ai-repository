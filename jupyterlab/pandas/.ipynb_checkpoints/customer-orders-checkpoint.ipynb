{
 "cells": [
  {
   "cell_type": "markdown",
   "id": "2f36d8b7-7aec-47b0-8f21-ac88e36d0546",
   "metadata": {},
   "source": [
    "**Customer Orders and Transactions**\n",
    "\n",
    "Columns:\n",
    "* Customer ID\n",
    "* Customer Name\n",
    "* Email, Order ID\n",
    "* Order Date\n",
    "* Product Type\n",
    "* Product Id\n",
    "* Quantity\n",
    "* Price\n",
    "* Discount\n",
    "* Total\n",
    "* Order Status\n",
    "\n",
    "**Features:**\n",
    "Generate a large dataset of customer orders for an e-commerce site. Simulate product purchases, calculate total prices, discounts, and track statuses like \"Shipped,\" \"Delivered,\" \"Returned.\"\n",
    "\n",
    "Manipulation Ideas:\n",
    "* Calculate order totals with discounts.\n",
    "* Filter by order status and date.\n",
    "* Group by product to find best-sellers.\n",
    "* Analyze customer order patterns over time.\n",
    "* Generate reports on total sales per month or year."
   ]
  },
  {
   "cell_type": "code",
   "execution_count": 2,
   "id": "8b47f199-ad12-4e6f-a17c-cfdee90ce6cc",
   "metadata": {},
   "outputs": [],
   "source": [
    "import random\n",
    "import datetime\n",
    "import faker\n",
    "import pandas as pd\n",
    "import matplotlib.pyplot as plt"
   ]
  },
  {
   "cell_type": "code",
   "execution_count": 3,
   "id": "501c5c14-2d05-4396-bd14-d6df1cbb555d",
   "metadata": {},
   "outputs": [],
   "source": [
    "fake = faker.Faker()\n",
    "\n",
    "product_category = [\n",
    "    \"Electronics\",\n",
    "    \"Sports & Outdoors\",\n",
    "    \"Home Appliances\",\n",
    "    \"Toys & Games\",\n",
    "    \"Clothing & Appeal\",\n",
    "    \"Baby Products\",\n",
    "    \"Health & Beauty\",\n",
    "    \"Office Supplies\",\n",
    "    \"Software & Games\",\n",
    "    \"Books & Stationery\",\n",
    "]\n",
    "\n",
    "order_status = [\n",
    "    \"Shipping Soon\", \"Shipped\", \"Out For Delivery\", \"Delivered\"\n",
    "]\n",
    "\n",
    "data = {\n",
    "    \"Customer Id\": [random.randint(000000, 999999) for c in range(150)],\n",
    "    \"First Name\": [fake.first_name() for fn in range(150)],\n",
    "    \"Last Name\": [fake.last_name() for ln in range(150)],\n",
    "    \"Order Date\": [fake.date_this_century() for dt in range(150)],\n",
    "    \"Product Type\": [random.choice(product_category) for pt in range(150)],\n",
    "    \"Product ID\": [random.randint(00000, 99999) for pi in range(150)],\n",
    "    \"Product Price (Per Item)\": [fake.pydecimal(left_digits=3, right_digits=2, positive=True, min_value=1, max_value=700) for pp in range(150)],\n",
    "    \"Product Quantity\": [random.randint(1, 10) for pq in range(150)],\n",
    "    \"Order Status\": [random.choice(order_status) for os in range(150)]\n",
    "    \n",
    "}"
   ]
  },
  {
   "cell_type": "code",
   "execution_count": 4,
   "id": "ce3bf4e9-672c-47a1-b498-ac897844e615",
   "metadata": {},
   "outputs": [],
   "source": [
    "# create the DataFrame\n",
    "df = pd.DataFrame(data)"
   ]
  },
  {
   "cell_type": "code",
   "execution_count": 5,
   "id": "21eb0548-4b15-4154-b6a0-48b7f9c10a16",
   "metadata": {},
   "outputs": [
    {
     "name": "stdout",
     "output_type": "stream",
     "text": [
      "   Customer Id First Name Last Name                  Email Address  \\\n",
      "0       940022      James    Howard      james.howard@customer.com   \n",
      "1       946912     Austin     Glenn      austin.glenn@customer.com   \n",
      "2       875845      Colin    Watson      colin.watson@customer.com   \n",
      "3       952587    Jeffery  Williams  jeffery.williams@customer.com   \n",
      "4       884622     Joshua    Bryant     joshua.bryant@customer.com   \n",
      "\n",
      "   Order Date        Product Type  Product ID Product Price (Per Item)  \\\n",
      "0  2002-02-27    Software & Games       11158                   635.32   \n",
      "1  2014-03-25  Books & Stationery       31544                   157.64   \n",
      "2  2005-08-30         Electronics       35754                   184.95   \n",
      "3  2013-05-12   Sports & Outdoors       23561                   595.93   \n",
      "4  2020-03-22        Toys & Games       94075                   201.80   \n",
      "\n",
      "   Product Quantity      Order Status  \n",
      "0                 9  Out For Delivery  \n",
      "1                 7           Shipped  \n",
      "2                 7         Delivered  \n",
      "3                 8           Shipped  \n",
      "4                 8         Delivered  \n"
     ]
    }
   ],
   "source": [
    "# generate email based on firstname and lastname\n",
    "email_address = [f\"{first.lower()}.{last.lower()}@customer.com\" for first, last in zip(df['First Name'], df['Last Name'])]\n",
    "df.insert(3, \"Email Address\", email_address)\n",
    "\n",
    "# print the first x rows\n",
    "print(df.head(5))"
   ]
  },
  {
   "cell_type": "code",
   "execution_count": 6,
   "id": "e6e4dc4b-6538-40dd-82bc-d6b9c49e9de2",
   "metadata": {},
   "outputs": [
    {
     "name": "stdout",
     "output_type": "stream",
     "text": [
      "   Customer Id First Name Last Name                  Email Address  \\\n",
      "0       940022      James    Howard      james.howard@customer.com   \n",
      "1       946912     Austin     Glenn      austin.glenn@customer.com   \n",
      "2       875845      Colin    Watson      colin.watson@customer.com   \n",
      "3       952587    Jeffery  Williams  jeffery.williams@customer.com   \n",
      "4       884622     Joshua    Bryant     joshua.bryant@customer.com   \n",
      "\n",
      "   Order Date        Product Type  Product ID Product Price (Per Item)  \\\n",
      "0  2002-02-27    Software & Games       11158                   635.32   \n",
      "1  2014-03-25  Books & Stationery       31544                   157.64   \n",
      "2  2005-08-30         Electronics       35754                   184.95   \n",
      "3  2013-05-12   Sports & Outdoors       23561                   595.93   \n",
      "4  2020-03-22        Toys & Games       94075                   201.80   \n",
      "\n",
      "   Product Quantity Total Cost      Order Status  \n",
      "0                 9    5717.88  Out For Delivery  \n",
      "1                 7    1103.48           Shipped  \n",
      "2                 7    1294.65         Delivered  \n",
      "3                 8    4767.44           Shipped  \n",
      "4                 8    1614.40         Delivered  \n"
     ]
    }
   ],
   "source": [
    "# generate total (Product Price * Product Quantity)\n",
    "total_cost = df[\"Product Price (Per Item)\"] * df[\"Product Quantity\"]\n",
    "\n",
    "# insert total cost column onto dataframe\n",
    "df.insert(9, \"Total Cost\", total_cost)\n",
    "\n",
    "# print the first x rows\n",
    "print(df.head(5))"
   ]
  },
  {
   "cell_type": "code",
   "execution_count": 7,
   "id": "2ab89ecd-9ab2-4320-b0e1-937073b0aa79",
   "metadata": {},
   "outputs": [
    {
     "name": "stdout",
     "output_type": "stream",
     "text": [
      "   Customer Id First Name Last Name                  Email Address  \\\n",
      "0       940022      James    Howard      james.howard@customer.com   \n",
      "1       946912     Austin     Glenn      austin.glenn@customer.com   \n",
      "2       875845      Colin    Watson      colin.watson@customer.com   \n",
      "3       952587    Jeffery  Williams  jeffery.williams@customer.com   \n",
      "4       884622     Joshua    Bryant     joshua.bryant@customer.com   \n",
      "\n",
      "   Order Date        Product Type  Product ID Product Price (Per Item)  \\\n",
      "0  2002-02-27    Software & Games       11158                   635.32   \n",
      "1  2014-03-25  Books & Stationery       31544                   157.64   \n",
      "2  2005-08-30         Electronics       35754                   184.95   \n",
      "3  2013-05-12   Sports & Outdoors       23561                   595.93   \n",
      "4  2020-03-22        Toys & Games       94075                   201.80   \n",
      "\n",
      "   Product Quantity Total Cost  Discount (%)      Order Status  \n",
      "0                 9    5717.88            22  Out For Delivery  \n",
      "1                 7    1103.48            23           Shipped  \n",
      "2                 7    1294.65            35         Delivered  \n",
      "3                 8    4767.44             0           Shipped  \n",
      "4                 8    1614.40            35         Delivered  \n"
     ]
    }
   ],
   "source": [
    "# generate a discount column\n",
    "discount = [random.randint(0, 35) for d in range(150)]\n",
    "df.insert(10, \"Discount (%)\", discount)\n",
    "\n",
    "print(df.head(5))"
   ]
  },
  {
   "cell_type": "code",
   "execution_count": 8,
   "id": "b9db6356-7018-401d-9795-ab571a4d616e",
   "metadata": {},
   "outputs": [
    {
     "name": "stdout",
     "output_type": "stream",
     "text": [
      "   Customer Id First Name Last Name                  Email Address  \\\n",
      "0       940022      James    Howard      james.howard@customer.com   \n",
      "1       946912     Austin     Glenn      austin.glenn@customer.com   \n",
      "2       875845      Colin    Watson      colin.watson@customer.com   \n",
      "3       952587    Jeffery  Williams  jeffery.williams@customer.com   \n",
      "4       884622     Joshua    Bryant     joshua.bryant@customer.com   \n",
      "\n",
      "   Order Date        Product Type  Product ID Product Price (Per Item)  \\\n",
      "0  2002-02-27    Software & Games       11158                   635.32   \n",
      "1  2014-03-25  Books & Stationery       31544                   157.64   \n",
      "2  2005-08-30         Electronics       35754                   184.95   \n",
      "3  2013-05-12   Sports & Outdoors       23561                   595.93   \n",
      "4  2020-03-22        Toys & Games       94075                   201.80   \n",
      "\n",
      "   Product Quantity Total Cost  Discount (%)  Discounted Price (Per Item)  \\\n",
      "0                 9    5717.88            22                       495.55   \n",
      "1                 7    1103.48            23                       121.38   \n",
      "2                 7    1294.65            35                       120.22   \n",
      "3                 8    4767.44             0                       595.93   \n",
      "4                 8    1614.40            35                       131.17   \n",
      "\n",
      "       Order Status  \n",
      "0  Out For Delivery  \n",
      "1           Shipped  \n",
      "2         Delivered  \n",
      "3           Shipped  \n",
      "4         Delivered  \n"
     ]
    }
   ],
   "source": [
    "discounted_price = [\n",
    "    # round the discounted price to 2 decimal place\n",
    "    round(float(price) * (1 - discount / 100), 2)\n",
    "    for price, discount in zip(df['Product Price (Per Item)'], df['Discount (%)'])\n",
    "]\n",
    "\n",
    "# insert discounted price to DataFrame\n",
    "# index 11 = 12th position\n",
    "df.insert(11, \"Discounted Price (Per Item)\", discounted_price)\n",
    "print(df.head(5))"
   ]
  },
  {
   "cell_type": "code",
   "execution_count": 9,
   "id": "72b724fd-289a-49aa-a41f-100b22f87d40",
   "metadata": {},
   "outputs": [
    {
     "name": "stdout",
     "output_type": "stream",
     "text": [
      "   Customer Id First Name Last Name                  Email Address  \\\n",
      "0       940022      James    Howard      james.howard@customer.com   \n",
      "1       946912     Austin     Glenn      austin.glenn@customer.com   \n",
      "2       875845      Colin    Watson      colin.watson@customer.com   \n",
      "3       952587    Jeffery  Williams  jeffery.williams@customer.com   \n",
      "4       884622     Joshua    Bryant     joshua.bryant@customer.com   \n",
      "\n",
      "   Order Date        Product Type  Product ID Product Price (Per Item)  \\\n",
      "0  2002-02-27    Software & Games       11158                   635.32   \n",
      "1  2014-03-25  Books & Stationery       31544                   157.64   \n",
      "2  2005-08-30         Electronics       35754                   184.95   \n",
      "3  2013-05-12   Sports & Outdoors       23561                   595.93   \n",
      "4  2020-03-22        Toys & Games       94075                   201.80   \n",
      "\n",
      "   Product Quantity Total Cost  Discount (%)  Discounted Price (Per Item)  \\\n",
      "0                 9    5717.88            22                       495.55   \n",
      "1                 7    1103.48            23                       121.38   \n",
      "2                 7    1294.65            35                       120.22   \n",
      "3                 8    4767.44             0                       595.93   \n",
      "4                 8    1614.40            35                       131.17   \n",
      "\n",
      "   Final Price      Order Status  \n",
      "0      4459.95  Out For Delivery  \n",
      "1       849.66           Shipped  \n",
      "2       841.54         Delivered  \n",
      "3      4767.44           Shipped  \n",
      "4      1049.36         Delivered  \n"
     ]
    }
   ],
   "source": [
    "# formula for generating final price\n",
    "final_price = [\n",
    "    round(float(discounted_price) * product_quantity, 2)\n",
    "    for discounted_price, product_quantity in zip(df['Discounted Price (Per Item)'], df['Product Quantity'])\n",
    "]\n",
    "\n",
    "# insert final price column\n",
    "df.insert(12, \"Final Price\", final_price)\n",
    "print(df.head(5))"
   ]
  },
  {
   "cell_type": "code",
   "execution_count": 10,
   "id": "9c7be902-934f-48d6-a5e3-6031ed7f3fee",
   "metadata": {},
   "outputs": [],
   "source": [
    "df.to_csv(\"customer_orders.csv\", index=True)"
   ]
  },
  {
   "cell_type": "code",
   "execution_count": null,
   "id": "0ddbfcd4-8320-46ad-b8fe-f67b2eb28676",
   "metadata": {},
   "outputs": [],
   "source": []
  }
 ],
 "metadata": {
  "kernelspec": {
   "display_name": "Python 3 (ipykernel)",
   "language": "python",
   "name": "python3"
  },
  "language_info": {
   "codemirror_mode": {
    "name": "ipython",
    "version": 3
   },
   "file_extension": ".py",
   "mimetype": "text/x-python",
   "name": "python",
   "nbconvert_exporter": "python",
   "pygments_lexer": "ipython3",
   "version": "3.10.12"
  }
 },
 "nbformat": 4,
 "nbformat_minor": 5
}
