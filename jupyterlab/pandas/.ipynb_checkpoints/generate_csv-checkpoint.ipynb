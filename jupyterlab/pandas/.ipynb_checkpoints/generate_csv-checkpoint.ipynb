{
 "cells": [
  {
   "cell_type": "code",
   "execution_count": 2,
   "id": "04aacfb7-f0ea-4c24-a554-9a7448838686",
   "metadata": {},
   "outputs": [
    {
     "name": "stdout",
     "output_type": "stream",
     "text": [
      "Random university student spreadsheet generated and saved as 'university_students.csv'.\n"
     ]
    }
   ],
   "source": [
    "import pandas as pd\n",
    "import random\n",
    "import faker\n",
    "\n",
    "# Initialize Faker to generate random names\n",
    "fake = faker.Faker()\n",
    "\n",
    "# Define some sample data options\n",
    "majors = [\"Computer Science\", \"Mathematics\", \"Physics\", \"Biology\", \"Chemistry\", \n",
    "          \"Economics\", \"Psychology\", \"History\", \"Political Science\", \"English\"]\n",
    "\n",
    "# Generate the data\n",
    "data = {\n",
    "    \"Student ID\": [f\"S{1000 + i}\" for i in range(100)],  # IDs like S1000, S1001, ...\n",
    "    \"Name\": [fake.name() for _ in range(100)],\n",
    "    \"Age\": [random.randint(18, 25) for _ in range(100)],  # Ages between 18 and 25\n",
    "    \"Major\": [random.choice(majors) for _ in range(100)],\n",
    "    \"GPA\": [round(random.uniform(2.0, 4.0), 2) for _ in range(100)],  # GPAs between 2.0 and 4.0\n",
    "    \"Study Hours per Week\": [random.randint(5, 40) for _ in range(100)],  # Hours from 5 to 40\n",
    "}\n",
    "\n",
    "# Create a DataFrame\n",
    "df = pd.DataFrame(data)\n",
    "\n",
    "# Save to CSV\n",
    "df.to_csv(\"university_students.csv\", index=False)\n",
    "\n",
    "print(\"Random university student spreadsheet generated and saved as 'university_students.csv'.\")\n"
   ]
  },
  {
   "cell_type": "code",
   "execution_count": null,
   "id": "06c9aff3-477f-4ccf-aa34-1a32174c693c",
   "metadata": {},
   "outputs": [],
   "source": []
  }
 ],
 "metadata": {
  "kernelspec": {
   "display_name": "Python 3 (ipykernel)",
   "language": "python",
   "name": "python3"
  },
  "language_info": {
   "codemirror_mode": {
    "name": "ipython",
    "version": 3
   },
   "file_extension": ".py",
   "mimetype": "text/x-python",
   "name": "python",
   "nbconvert_exporter": "python",
   "pygments_lexer": "ipython3",
   "version": "3.10.12"
  }
 },
 "nbformat": 4,
 "nbformat_minor": 5
}
