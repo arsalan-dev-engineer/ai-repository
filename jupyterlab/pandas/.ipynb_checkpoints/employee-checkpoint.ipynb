{
 "cells": [
  {
   "cell_type": "code",
   "execution_count": 71,
   "id": "1ca80857-6ac9-4ffc-a56c-0d91e66ee6ec",
   "metadata": {},
   "outputs": [],
   "source": [
    "import pandas as pd\n",
    "import faker\n",
    "import random\n",
    "import datetime"
   ]
  },
  {
   "cell_type": "code",
   "execution_count": 72,
   "id": "ad38f5c5-19d3-44e8-a246-710772e219ed",
   "metadata": {},
   "outputs": [],
   "source": [
    "# create faker object\n",
    "fake = faker.Faker()\n",
    "\n",
    "# list of available job titles\n",
    "job_title = [\"Software Engineer\",\n",
    "             \"DevOps Engineer\",\n",
    "             \"Cloud Architect\",\n",
    "             \"Data Scientist\",\n",
    "             \"Machine Learning Engineer\",\n",
    "             \"System Administrator\",\n",
    "             \"Full Stack Developer\",\n",
    "             \"Cybersecurity Analyst\",\n",
    "             \"Data Administrator (DBA)\",\n",
    "             \"Network Engineer\",\n",
    "             \"Product Manager (Tech)\",\n",
    "             \"Front-End Developer\",\n",
    "             \"Back-End Developer\",\n",
    "             \"Site Reliability Engineer (SRE)\",\n",
    "             \"UI/UX Designer\"\n",
    "             ]\n",
    "\n",
    "# generate data for the DataFrame\n",
    "data = {\n",
    "    \"Employee Id\":[f\"EMP{1000+1}\" for i in range(150)],\n",
    "    \"First Name\":[fake.first_name() for fn in range(150)],\n",
    "    \"Last Name\":[fake.last_name() for ln in range(150)],\n",
    "    \"Job Title\": [random.choice(job_title) for jt in range(150)],\n",
    "    \"Hire Date\": [fake.date_this_century() for d in range(150)]\n",
    "}\n",
    "\n",
    "df = pd.DataFrame(data)"
   ]
  },
  {
   "cell_type": "code",
   "execution_count": 73,
   "id": "65ea16b2-7258-4f6e-a746-24389c7247ea",
   "metadata": {},
   "outputs": [
    {
     "name": "stdout",
     "output_type": "stream",
     "text": [
      "  Employee Id First Name Last Name                        Job Title  \\\n",
      "0     EMP1001      Amber   Johnson               Back-End Developer   \n",
      "1     EMP1001     Denise    Harvey                Software Engineer   \n",
      "2     EMP1001      Jason      Soto           Product Manager (Tech)   \n",
      "3     EMP1001       Beth     Smith  Site Reliability Engineer (SRE)   \n",
      "4     EMP1001    Timothy  Thompson  Site Reliability Engineer (SRE)   \n",
      "\n",
      "    Hire Date  \n",
      "0  2010-10-09  \n",
      "1  2017-04-17  \n",
      "2  2000-01-15  \n",
      "3  2024-07-22  \n",
      "4  2019-05-03  \n"
     ]
    }
   ],
   "source": [
    "# print the first x rows\n",
    "print(df.head(5))"
   ]
  },
  {
   "cell_type": "code",
   "execution_count": 75,
   "id": "1fdcd3b8-ce0a-4a69-b1c7-67782cd05bfd",
   "metadata": {},
   "outputs": [],
   "source": [
    "# insert age column with random numbers between 18 to 75 per row\n",
    "df.insert(3, \"Age\", [random.randint(18, 75+1) for a in range(150)])"
   ]
  },
  {
   "cell_type": "code",
   "execution_count": 76,
   "id": "e877c0b7-3536-4d9c-86b4-98ce1813bbb3",
   "metadata": {},
   "outputs": [
    {
     "name": "stdout",
     "output_type": "stream",
     "text": [
      "  Employee Id First Name Last Name  Age                        Job Title  \\\n",
      "0     EMP1001      Amber   Johnson   44               Back-End Developer   \n",
      "1     EMP1001     Denise    Harvey   53                Software Engineer   \n",
      "2     EMP1001      Jason      Soto   53           Product Manager (Tech)   \n",
      "3     EMP1001       Beth     Smith   67  Site Reliability Engineer (SRE)   \n",
      "4     EMP1001    Timothy  Thompson   64  Site Reliability Engineer (SRE)   \n",
      "\n",
      "    Hire Date  \n",
      "0  2010-10-09  \n",
      "1  2017-04-17  \n",
      "2  2000-01-15  \n",
      "3  2024-07-22  \n",
      "4  2019-05-03  \n"
     ]
    }
   ],
   "source": [
    "print(df.head(5))"
   ]
  },
  {
   "cell_type": "code",
   "execution_count": 77,
   "id": "8809b5db-a3b4-4dd3-a848-2f9c23c1caca",
   "metadata": {},
   "outputs": [],
   "source": [
    "# concatinating firstname and lastname columns for the new email column\n",
    "df['Email Address'] = df.apply(lambda row: f\"{row['First Name'].lower()}.{row['Last Name'].lower()}@sharp-tech-dev.com\", axis=1)\n",
    "\n",
    "# df.drop(\"Email Address\", axis=1, inplace=True)"
   ]
  },
  {
   "cell_type": "code",
   "execution_count": 78,
   "id": "94fbac73-a753-4157-99d5-83cb27564089",
   "metadata": {},
   "outputs": [
    {
     "name": "stdout",
     "output_type": "stream",
     "text": [
      "  Employee Id First Name Last Name  Age                        Job Title  \\\n",
      "0     EMP1001      Amber   Johnson   44               Back-End Developer   \n",
      "1     EMP1001     Denise    Harvey   53                Software Engineer   \n",
      "2     EMP1001      Jason      Soto   53           Product Manager (Tech)   \n",
      "3     EMP1001       Beth     Smith   67  Site Reliability Engineer (SRE)   \n",
      "4     EMP1001    Timothy  Thompson   64  Site Reliability Engineer (SRE)   \n",
      "\n",
      "    Hire Date                        Email Address  \n",
      "0  2010-10-09     amber.johnson@sharp-tech-dev.com  \n",
      "1  2017-04-17     denise.harvey@sharp-tech-dev.com  \n",
      "2  2000-01-15        jason.soto@sharp-tech-dev.com  \n",
      "3  2024-07-22        beth.smith@sharp-tech-dev.com  \n",
      "4  2019-05-03  timothy.thompson@sharp-tech-dev.com  \n"
     ]
    }
   ],
   "source": [
    "print(df.head(5))"
   ]
  },
  {
   "cell_type": "code",
   "execution_count": 89,
   "id": "892bcea1-ca4d-4892-bac9-03e7fe633db4",
   "metadata": {},
   "outputs": [],
   "source": [
    "df.to_csv(\"employees_sheet.csv\", index=True)"
   ]
  },
  {
   "cell_type": "code",
   "execution_count": null,
   "id": "1e60c403-0516-45cc-9e4b-93b4bf20d011",
   "metadata": {},
   "outputs": [],
   "source": [
    "# save the DataFrame to a csv format\n",
    "df.to_csv(\"employees_sheet.csv\")"
   ]
  }
 ],
 "metadata": {
  "kernelspec": {
   "display_name": "Python 3 (ipykernel)",
   "language": "python",
   "name": "python3"
  },
  "language_info": {
   "codemirror_mode": {
    "name": "ipython",
    "version": 3
   },
   "file_extension": ".py",
   "mimetype": "text/x-python",
   "name": "python",
   "nbconvert_exporter": "python",
   "pygments_lexer": "ipython3",
   "version": "3.10.12"
  }
 },
 "nbformat": 4,
 "nbformat_minor": 5
}
