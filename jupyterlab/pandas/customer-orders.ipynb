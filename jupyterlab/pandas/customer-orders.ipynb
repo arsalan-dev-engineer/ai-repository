{
 "cells": [
  {
   "cell_type": "markdown",
   "id": "2f36d8b7-7aec-47b0-8f21-ac88e36d0546",
   "metadata": {},
   "source": [
    "**Customer Orders and Transactions**\n",
    "\n",
    "Columns:\n",
    "* Customer ID\n",
    "* Customer Name\n",
    "* Email, Order ID\n",
    "* Order Date\n",
    "* Product Type\n",
    "* Product Id\n",
    "* Quantity\n",
    "* Price\n",
    "* Discount\n",
    "* Total\n",
    "* Order Status\n",
    "\n",
    "**Features:**\n",
    "Generate a large dataset of customer orders for an e-commerce site. Simulate product purchases, calculate total prices, discounts, and track statuses like \"Shipped,\" \"Delivered,\" \"Returned.\"\n",
    "\n",
    "Manipulation Ideas:\n",
    "* Calculate order totals with discounts.\n",
    "* Filter by order status and date.\n",
    "* Group by product to find best-sellers.\n",
    "* Analyze customer order patterns over time.\n",
    "* Generate reports on total sales per month or year."
   ]
  },
  {
   "cell_type": "code",
   "execution_count": 166,
   "id": "8b47f199-ad12-4e6f-a17c-cfdee90ce6cc",
   "metadata": {},
   "outputs": [],
   "source": [
    "import random\n",
    "import datetime\n",
    "import faker\n",
    "import pandas as pd\n",
    "import matplotlib.pyplot as plt"
   ]
  },
  {
   "cell_type": "code",
   "execution_count": 167,
   "id": "501c5c14-2d05-4396-bd14-d6df1cbb555d",
   "metadata": {},
   "outputs": [],
   "source": [
    "fake = faker.Faker()\n",
    "\n",
    "product_category = [\n",
    "    \"Electronics\",\n",
    "    \"Sports & Outdoors\",\n",
    "    \"Home Appliances\",\n",
    "    \"Toys & Games\",\n",
    "    \"Clothing & Appeal\",\n",
    "    \"Baby Products\",\n",
    "    \"Health & Beauty\",\n",
    "    \"Office Supplies\",\n",
    "    \"Software & Games\",\n",
    "    \"Books & Stationery\",\n",
    "]\n",
    "\n",
    "order_status = [\n",
    "    \"Shipping Soon\", \"Shipped\", \"Out For Delivery\", \"Delivered\"\n",
    "]\n",
    "\n",
    "data = {\n",
    "    \"Customer Id\": [random.randint(000000, 999999) for c in range(150)],\n",
    "    \"First Name\": [fake.first_name() for fn in range(150)],\n",
    "    \"Last Name\": [fake.last_name() for ln in range(150)],\n",
    "    \"Order Date\": [fake.date_this_century() for dt in range(150)],\n",
    "    \"Product Type\": [random.choice(product_category) for pt in range(150)],\n",
    "    \"Product ID\": [random.randint(00000, 99999) for pi in range(150)],\n",
    "    \"Product Price (Per Item)\": [fake.pydecimal(left_digits=3, right_digits=2, positive=True, min_value=1, max_value=700) for pp in range(150)],\n",
    "    \"Product Quantity\": [random.randint(1, 10) for pq in range(150)],\n",
    "    \"Order Status\": [random.choice(order_status) for os in range(150)]\n",
    "    \n",
    "}"
   ]
  },
  {
   "cell_type": "code",
   "execution_count": 168,
   "id": "ce3bf4e9-672c-47a1-b498-ac897844e615",
   "metadata": {},
   "outputs": [],
   "source": [
    "# create the DataFrame\n",
    "df = pd.DataFrame(data)"
   ]
  },
  {
   "cell_type": "code",
   "execution_count": 169,
   "id": "e5d2f6b3-a3ce-4791-b46d-1b9d04188fa3",
   "metadata": {},
   "outputs": [
    {
     "name": "stdout",
     "output_type": "stream",
     "text": [
      "   Customer Id First Name Last Name  Order Date        Product Type  \\\n",
      "0       768937    Abigail      Ruiz  2022-10-20     Office Supplies   \n",
      "1       253974      Emily    Miller  2001-04-14  Books & Stationery   \n",
      "2       479215    Ricardo     Young  2005-06-28   Clothing & Appeal   \n",
      "3       456219      Derek      Pace  2008-02-11     Home Appliances   \n",
      "4       426421      Glenn  Fletcher  2011-04-26    Software & Games   \n",
      "5       385454    Melissa   Lambert  2009-10-13         Electronics   \n",
      "6       130841     Justin  Crawford  2021-05-17   Clothing & Appeal   \n",
      "7        22864      Diane     Olsen  2000-07-24     Office Supplies   \n",
      "8       450068     Stacey  Marshall  2013-06-05        Toys & Games   \n",
      "9       771739     Shelby  Gonzalez  2004-05-23   Sports & Outdoors   \n",
      "\n",
      "   Product ID Product Price (Per Item)  Product Quantity      Order Status  \n",
      "0       23787                   632.70                 8         Delivered  \n",
      "1       76944                   151.09                 7  Out For Delivery  \n",
      "2       44351                   326.84                 4           Shipped  \n",
      "3       84784                   183.86                 5     Shipping Soon  \n",
      "4       74328                   316.67                 1           Shipped  \n",
      "5       18788                   538.40                 9         Delivered  \n",
      "6       38257                   596.44                 6         Delivered  \n",
      "7       40243                    48.87                 7         Delivered  \n",
      "8       59199                    43.93                 7  Out For Delivery  \n",
      "9       69437                   224.73                 1         Delivered  \n"
     ]
    }
   ],
   "source": [
    "# print the first x rows\n",
    "print(df.head(10))"
   ]
  },
  {
   "cell_type": "code",
   "execution_count": 170,
   "id": "21eb0548-4b15-4154-b6a0-48b7f9c10a16",
   "metadata": {},
   "outputs": [
    {
     "name": "stdout",
     "output_type": "stream",
     "text": [
      "   Customer Id First Name Last Name                Email Address  Order Date  \\\n",
      "0       768937    Abigail      Ruiz    abigail.ruiz@customer.com  2022-10-20   \n",
      "1       253974      Emily    Miller    emily.miller@customer.com  2001-04-14   \n",
      "2       479215    Ricardo     Young   ricardo.young@customer.com  2005-06-28   \n",
      "3       456219      Derek      Pace      derek.pace@customer.com  2008-02-11   \n",
      "4       426421      Glenn  Fletcher  glenn.fletcher@customer.com  2011-04-26   \n",
      "\n",
      "         Product Type  Product ID Product Price (Per Item)  Product Quantity  \\\n",
      "0     Office Supplies       23787                   632.70                 8   \n",
      "1  Books & Stationery       76944                   151.09                 7   \n",
      "2   Clothing & Appeal       44351                   326.84                 4   \n",
      "3     Home Appliances       84784                   183.86                 5   \n",
      "4    Software & Games       74328                   316.67                 1   \n",
      "\n",
      "       Order Status  \n",
      "0         Delivered  \n",
      "1  Out For Delivery  \n",
      "2           Shipped  \n",
      "3     Shipping Soon  \n",
      "4           Shipped  \n"
     ]
    }
   ],
   "source": [
    "# generate email based on firstname and lastname\n",
    "email_address = [f\"{first.lower()}.{last.lower()}@customer.com\" for first, last in zip(df['First Name'], df['Last Name'])]\n",
    "df.insert(3, \"Email Address\", email_address)\n",
    "\n",
    "# print the first x rows\n",
    "print(df.head(5))"
   ]
  },
  {
   "cell_type": "code",
   "execution_count": 171,
   "id": "e6e4dc4b-6538-40dd-82bc-d6b9c49e9de2",
   "metadata": {},
   "outputs": [
    {
     "name": "stdout",
     "output_type": "stream",
     "text": [
      "   Customer Id First Name Last Name                Email Address  Order Date  \\\n",
      "0       768937    Abigail      Ruiz    abigail.ruiz@customer.com  2022-10-20   \n",
      "1       253974      Emily    Miller    emily.miller@customer.com  2001-04-14   \n",
      "2       479215    Ricardo     Young   ricardo.young@customer.com  2005-06-28   \n",
      "3       456219      Derek      Pace      derek.pace@customer.com  2008-02-11   \n",
      "4       426421      Glenn  Fletcher  glenn.fletcher@customer.com  2011-04-26   \n",
      "\n",
      "         Product Type  Product ID Product Price (Per Item)  Product Quantity  \\\n",
      "0     Office Supplies       23787                   632.70                 8   \n",
      "1  Books & Stationery       76944                   151.09                 7   \n",
      "2   Clothing & Appeal       44351                   326.84                 4   \n",
      "3     Home Appliances       84784                   183.86                 5   \n",
      "4    Software & Games       74328                   316.67                 1   \n",
      "\n",
      "  Total Cost      Order Status  \n",
      "0    5061.60         Delivered  \n",
      "1    1057.63  Out For Delivery  \n",
      "2    1307.36           Shipped  \n",
      "3     919.30     Shipping Soon  \n",
      "4     316.67           Shipped  \n"
     ]
    }
   ],
   "source": [
    "# generate total (Product Price * Product Quantity)\n",
    "total_cost = df[\"Product Price (Per Item)\"] * df[\"Product Quantity\"]\n",
    "\n",
    "# insert total cost column onto dataframe\n",
    "df.insert(9, \"Total Cost\", total_cost)\n",
    "\n",
    "# print the first x rows\n",
    "print(df.head(5))"
   ]
  },
  {
   "cell_type": "code",
   "execution_count": 172,
   "id": "2ab89ecd-9ab2-4320-b0e1-937073b0aa79",
   "metadata": {},
   "outputs": [
    {
     "name": "stdout",
     "output_type": "stream",
     "text": [
      "   Customer Id First Name Last Name                Email Address  Order Date  \\\n",
      "0       768937    Abigail      Ruiz    abigail.ruiz@customer.com  2022-10-20   \n",
      "1       253974      Emily    Miller    emily.miller@customer.com  2001-04-14   \n",
      "2       479215    Ricardo     Young   ricardo.young@customer.com  2005-06-28   \n",
      "3       456219      Derek      Pace      derek.pace@customer.com  2008-02-11   \n",
      "4       426421      Glenn  Fletcher  glenn.fletcher@customer.com  2011-04-26   \n",
      "\n",
      "         Product Type  Product ID Product Price (Per Item)  Product Quantity  \\\n",
      "0     Office Supplies       23787                   632.70                 8   \n",
      "1  Books & Stationery       76944                   151.09                 7   \n",
      "2   Clothing & Appeal       44351                   326.84                 4   \n",
      "3     Home Appliances       84784                   183.86                 5   \n",
      "4    Software & Games       74328                   316.67                 1   \n",
      "\n",
      "  Total Cost  Discount (%)      Order Status  \n",
      "0    5061.60             6         Delivered  \n",
      "1    1057.63            27  Out For Delivery  \n",
      "2    1307.36            21           Shipped  \n",
      "3     919.30             3     Shipping Soon  \n",
      "4     316.67            33           Shipped  \n"
     ]
    }
   ],
   "source": [
    "# generate a discount column\n",
    "discount = [random.randint(0, 35) for d in range(150)]\n",
    "df.insert(10, \"Discount (%)\", discount)\n",
    "\n",
    "print(df.head(5))"
   ]
  },
  {
   "cell_type": "code",
   "execution_count": 175,
   "id": "b9db6356-7018-401d-9795-ab571a4d616e",
   "metadata": {},
   "outputs": [
    {
     "name": "stdout",
     "output_type": "stream",
     "text": [
      "   Customer Id First Name Last Name                Email Address  Order Date  \\\n",
      "0       768937    Abigail      Ruiz    abigail.ruiz@customer.com  2022-10-20   \n",
      "1       253974      Emily    Miller    emily.miller@customer.com  2001-04-14   \n",
      "2       479215    Ricardo     Young   ricardo.young@customer.com  2005-06-28   \n",
      "3       456219      Derek      Pace      derek.pace@customer.com  2008-02-11   \n",
      "4       426421      Glenn  Fletcher  glenn.fletcher@customer.com  2011-04-26   \n",
      "\n",
      "         Product Type  Product ID Product Price (Per Item)  Product Quantity  \\\n",
      "0     Office Supplies       23787                   632.70                 8   \n",
      "1  Books & Stationery       76944                   151.09                 7   \n",
      "2   Clothing & Appeal       44351                   326.84                 4   \n",
      "3     Home Appliances       84784                   183.86                 5   \n",
      "4    Software & Games       74328                   316.67                 1   \n",
      "\n",
      "  Total Cost  Discount (%)  Discounted Price (Per Item)      Order Status  \n",
      "0    5061.60             6                       594.74         Delivered  \n",
      "1    1057.63            27                       110.30  Out For Delivery  \n",
      "2    1307.36            21                       258.20           Shipped  \n",
      "3     919.30             3                       178.34     Shipping Soon  \n",
      "4     316.67            33                       212.17           Shipped  \n"
     ]
    }
   ],
   "source": [
    "discounted_price = [\n",
    "    # round the discounted price to 2 decimal place\n",
    "    round(float(price) * (1 - discount / 100), 2)\n",
    "    for price, discount in zip(df['Product Price (Per Item)'], df['Discount (%)'])\n",
    "]\n",
    "\n",
    "# insert discounted price to DataFrame\n",
    "# index 11 = 12th position\n",
    "df.insert(11, \"Discounted Price (Per Item)\", discounted_price)\n",
    "print(df.head(5))"
   ]
  },
  {
   "cell_type": "code",
   "execution_count": 176,
   "id": "72b724fd-289a-49aa-a41f-100b22f87d40",
   "metadata": {},
   "outputs": [
    {
     "name": "stdout",
     "output_type": "stream",
     "text": [
      "   Customer Id First Name Last Name                Email Address  Order Date  \\\n",
      "0       768937    Abigail      Ruiz    abigail.ruiz@customer.com  2022-10-20   \n",
      "1       253974      Emily    Miller    emily.miller@customer.com  2001-04-14   \n",
      "2       479215    Ricardo     Young   ricardo.young@customer.com  2005-06-28   \n",
      "3       456219      Derek      Pace      derek.pace@customer.com  2008-02-11   \n",
      "4       426421      Glenn  Fletcher  glenn.fletcher@customer.com  2011-04-26   \n",
      "\n",
      "         Product Type  Product ID Product Price (Per Item)  Product Quantity  \\\n",
      "0     Office Supplies       23787                   632.70                 8   \n",
      "1  Books & Stationery       76944                   151.09                 7   \n",
      "2   Clothing & Appeal       44351                   326.84                 4   \n",
      "3     Home Appliances       84784                   183.86                 5   \n",
      "4    Software & Games       74328                   316.67                 1   \n",
      "\n",
      "  Total Cost  Discount (%)  Discounted Price (Per Item)  Final Price  \\\n",
      "0    5061.60             6                       594.74      4757.92   \n",
      "1    1057.63            27                       110.30       772.10   \n",
      "2    1307.36            21                       258.20      1032.80   \n",
      "3     919.30             3                       178.34       891.70   \n",
      "4     316.67            33                       212.17       212.17   \n",
      "\n",
      "       Order Status  \n",
      "0         Delivered  \n",
      "1  Out For Delivery  \n",
      "2           Shipped  \n",
      "3     Shipping Soon  \n",
      "4           Shipped  \n"
     ]
    }
   ],
   "source": [
    "# formula for generating final price\n",
    "final_price = [\n",
    "    round(float(discounted_price) * product_quantity, 2)\n",
    "    for discounted_price, product_quantity in zip(df['Discounted Price (Per Item)'], df['Product Quantity'])\n",
    "]\n",
    "\n",
    "# insert final price column\n",
    "df.insert(12, \"Final Price\", final_price)\n",
    "print(df.head(5))"
   ]
  },
  {
   "cell_type": "code",
   "execution_count": null,
   "id": "9c7be902-934f-48d6-a5e3-6031ed7f3fee",
   "metadata": {},
   "outputs": [],
   "source": []
  }
 ],
 "metadata": {
  "kernelspec": {
   "display_name": "Python 3 (ipykernel)",
   "language": "python",
   "name": "python3"
  },
  "language_info": {
   "codemirror_mode": {
    "name": "ipython",
    "version": 3
   },
   "file_extension": ".py",
   "mimetype": "text/x-python",
   "name": "python",
   "nbconvert_exporter": "python",
   "pygments_lexer": "ipython3",
   "version": "3.10.12"
  }
 },
 "nbformat": 4,
 "nbformat_minor": 5
}
