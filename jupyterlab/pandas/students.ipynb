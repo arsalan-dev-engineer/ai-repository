{
 "cells": [
  {
   "cell_type": "code",
   "execution_count": 74,
   "id": "ea777d59-d183-4766-a552-b952865572b7",
   "metadata": {},
   "outputs": [],
   "source": [
    "import pandas as pd\n",
    "import random"
   ]
  },
  {
   "cell_type": "code",
   "execution_count": 75,
   "id": "9cde09eb-0b14-48cf-b89e-0e3f79e5b338",
   "metadata": {},
   "outputs": [],
   "source": [
    "# load the data from the csv file\n",
    "data = pd.read_csv(\"university_students.csv\")"
   ]
  },
  {
   "cell_type": "code",
   "execution_count": 86,
   "id": "d020316a-7346-446f-96cb-15f2b35ec07b",
   "metadata": {},
   "outputs": [
    {
     "name": "stdout",
     "output_type": "stream",
     "text": [
      "   Index Student ID  employed   Salary             Name  Age  \\\n",
      "0      1      S1000      True  43711.0  Daniel Mitchell   18   \n",
      "1      2      S1001     False      NaN  Alexander James   22   \n",
      "2      3      S1002      True  15114.0      Laura Baker   18   \n",
      "3      4      S1003      True  45494.0     Anna Kennedy   24   \n",
      "4      5      S1004     False      NaN  Ronald Anderson   24   \n",
      "\n",
      "               Major  Study Hours per Week  \n",
      "0         Psychology                    18  \n",
      "1            English                    16  \n",
      "2          Chemistry                    38  \n",
      "3            History                    29  \n",
      "4  Political Science                     8  \n"
     ]
    }
   ],
   "source": [
    "print(data.head(5))"
   ]
  },
  {
   "cell_type": "code",
   "execution_count": 87,
   "id": "24e14e13-5b48-4709-b270-603f59231ce4",
   "metadata": {},
   "outputs": [
    {
     "name": "stdout",
     "output_type": "stream",
     "text": [
      "Column name already exists.\n"
     ]
    }
   ],
   "source": [
    "# add a column with random data at index 1\n",
    "try:\n",
    "    data.insert(2, \"Salary\", [\n",
    "        random.randint(10_000, 50_000) if employed else None\n",
    "        for employed in data[\"employed\"]])\n",
    "except ValueError:\n",
    "    print(\"Column name already exists.\")"
   ]
  },
  {
   "cell_type": "code",
   "execution_count": 88,
   "id": "7899bf80-4f7e-4cdc-9801-ae7240cb92d4",
   "metadata": {},
   "outputs": [
    {
     "name": "stdout",
     "output_type": "stream",
     "text": [
      "   Index Student ID  employed   Salary             Name  Age  \\\n",
      "0      1      S1000      True  43711.0  Daniel Mitchell   18   \n",
      "1      2      S1001     False      NaN  Alexander James   22   \n",
      "2      3      S1002      True  15114.0      Laura Baker   18   \n",
      "3      4      S1003      True  45494.0     Anna Kennedy   24   \n",
      "4      5      S1004     False      NaN  Ronald Anderson   24   \n",
      "\n",
      "               Major  Study Hours per Week  \n",
      "0         Psychology                    18  \n",
      "1            English                    16  \n",
      "2          Chemistry                    38  \n",
      "3            History                    29  \n",
      "4  Political Science                     8  \n"
     ]
    }
   ],
   "source": [
    "print(data.head(5))"
   ]
  },
  {
   "cell_type": "code",
   "execution_count": 89,
   "id": "93efa867-63b4-4c44-bf30-5810a6924975",
   "metadata": {},
   "outputs": [],
   "source": [
    "# save a new copy of the file\n",
    "# \"to_csv\" = method that writes the dataframe to a csv file\n",
    "# \"index=False\" pandas does not include index (row nums) when saving to a csv\n",
    "data.to_csv(\"university_students.csv\", index=False)"
   ]
  },
  {
   "cell_type": "code",
   "execution_count": 91,
   "id": "780d90c3-2db2-4a6e-b8fe-4111d26058d9",
   "metadata": {},
   "outputs": [
    {
     "name": "stdout",
     "output_type": "stream",
     "text": [
      "Index already exists.\n"
     ]
    }
   ],
   "source": [
    "try:\n",
    "    data.insert(0, \"Index\", [index for index, _ in enumerate(data[\"Student ID\"], start=1)])\n",
    "except ValueError:\n",
    "    print(\"Index already exists.\")"
   ]
  },
  {
   "cell_type": "code",
   "execution_count": 81,
   "id": "8009a0fe-bf9a-4a4a-8cb2-4a42d9167f13",
   "metadata": {},
   "outputs": [
    {
     "name": "stdout",
     "output_type": "stream",
     "text": [
      "   Index Student ID  employed   Salary             Name  Age  \\\n",
      "0      1      S1000      True  43711.0  Daniel Mitchell   18   \n",
      "1      2      S1001     False      NaN  Alexander James   22   \n",
      "2      3      S1002      True  15114.0      Laura Baker   18   \n",
      "3      4      S1003      True  45494.0     Anna Kennedy   24   \n",
      "4      5      S1004     False      NaN  Ronald Anderson   24   \n",
      "\n",
      "               Major   GPA  Study Hours per Week  \n",
      "0         Psychology  2.57                    18  \n",
      "1            English  2.14                    16  \n",
      "2          Chemistry  3.35                    38  \n",
      "3            History  3.31                    29  \n",
      "4  Political Science  2.59                     8  \n"
     ]
    }
   ],
   "source": [
    "print(data.head(5))"
   ]
  },
  {
   "cell_type": "code",
   "execution_count": 102,
   "id": "a5bc9ffb-0fb8-4887-bf3b-ecbbf7a26514",
   "metadata": {},
   "outputs": [],
   "source": [
    "# \"GPA\" == column name to remove\n",
    "# \"axis=0\" removes row\n",
    "# \"axis=1\" removes column\n",
    "# \"inplace=True\" modifies original dataframe, if False, creates new dataframe\n",
    "\n",
    "# data.drop(\"GPA\", axis=1, inplace=True)\n"
   ]
  },
  {
   "cell_type": "code",
   "execution_count": 103,
   "id": "81da84ef-caf3-473d-bd16-c794739023ee",
   "metadata": {},
   "outputs": [
    {
     "name": "stdout",
     "output_type": "stream",
     "text": [
      "   Index Student ID  employed   Salary             Name  Age  \\\n",
      "0      1      S1000      True  43711.0  Daniel Mitchell   18   \n",
      "1      2      S1001     False      NaN  Alexander James   22   \n",
      "2      3      S1002      True  15114.0      Laura Baker   18   \n",
      "3      4      S1003      True  45494.0     Anna Kennedy   24   \n",
      "4      5      S1004     False      NaN  Ronald Anderson   24   \n",
      "\n",
      "               Major  Study Hours per Week  \n",
      "0         Psychology                    18  \n",
      "1            English                    16  \n",
      "2          Chemistry                    38  \n",
      "3            History                    29  \n",
      "4  Political Science                     8  \n"
     ]
    }
   ],
   "source": [
    "print(data.head(5))"
   ]
  },
  {
   "cell_type": "code",
   "execution_count": null,
   "id": "6156aef6-d7d9-4a1f-a1e9-b313048ade29",
   "metadata": {},
   "outputs": [],
   "source": []
  }
 ],
 "metadata": {
  "kernelspec": {
   "display_name": "Python 3 (ipykernel)",
   "language": "python",
   "name": "python3"
  },
  "language_info": {
   "codemirror_mode": {
    "name": "ipython",
    "version": 3
   },
   "file_extension": ".py",
   "mimetype": "text/x-python",
   "name": "python",
   "nbconvert_exporter": "python",
   "pygments_lexer": "ipython3",
   "version": "3.10.12"
  }
 },
 "nbformat": 4,
 "nbformat_minor": 5
}
