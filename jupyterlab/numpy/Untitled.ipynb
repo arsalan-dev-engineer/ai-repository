{
 "cells": [
  {
   "cell_type": "markdown",
   "id": "24500ed0-f548-4c40-b10b-0270650fde95",
   "metadata": {},
   "source": [
    "In NumPy arrays, mixing data types converts them to the most general type, usually strings.\""
   ]
  },
  {
   "cell_type": "code",
   "execution_count": 2,
   "id": "911a8af7-8802-4d0f-a345-38f8911bee37",
   "metadata": {},
   "outputs": [],
   "source": [
    "import numpy as np"
   ]
  },
  {
   "cell_type": "code",
   "execution_count": 6,
   "id": "7a303076-0a9a-4118-b288-d44b4e07b336",
   "metadata": {},
   "outputs": [
    {
     "name": "stdout",
     "output_type": "stream",
     "text": [
      "[['1' '2' '3']\n",
      " ['4' '5' '6']\n",
      " ['7' '8' '9']]\n",
      "<class 'numpy.ndarray'>\n",
      "<U21\n"
     ]
    }
   ],
   "source": [
    "a = np.array(\n",
    "    [\n",
    "        [1, 2, 3],\n",
    "        [4, 5, 6],\n",
    "        [7, \"8\", 9]\n",
    "    ]\n",
    ")\n",
    "print(a)\n",
    "print(type(a))\n",
    "print(a.dtype)"
   ]
  },
  {
   "cell_type": "code",
   "execution_count": 12,
   "id": "140315cb-7e67-4c64-bf98-e05b91344d5d",
   "metadata": {},
   "outputs": [
    {
     "data": {
      "image/png": "[encoded data removed]",
      "text/plain": [
       "<Figure size 640x480 with 1 Axes>"
      ]
     },
     "metadata": {},
     "output_type": "display_data"
    }
   ],
   "source": [
    "import numpy as np\n",
    "import matplotlib.pyplot as plt\n",
    "\n",
    "# Simulating a simple RGB image (height x width x 3)\n",
    "image = np.random.randint(0, 256, size=(5, 5, 3))\n",
    "\n",
    "# Convert the image to grayscale by averaging the R, G, and B channels\n",
    "grayscale_image = np.mean(image, axis=2)\n",
    "\n",
    "# Display the image\n",
    "plt.imshow(grayscale_image, cmap='gray')\n",
    "plt.show()\n"
   ]
  },
  {
   "cell_type": "code",
   "execution_count": null,
   "id": "ef96f1b3-805c-4df3-9791-d10e5d45e103",
   "metadata": {},
   "outputs": [],
   "source": []
  }
 ],
 "metadata": {
  "kernelspec": {
   "display_name": "Python 3 (ipykernel)",
   "language": "python",
   "name": "python3"
  },
  "language_info": {
   "codemirror_mode": {
    "name": "ipython",
    "version": 3
   },
   "file_extension": ".py",
   "mimetype": "text/x-python",
   "name": "python",
   "nbconvert_exporter": "python",
   "pygments_lexer": "ipython3",
   "version": "3.10.12"
  }
 },
 "nbformat": 4,
 "nbformat_minor": 5
}
