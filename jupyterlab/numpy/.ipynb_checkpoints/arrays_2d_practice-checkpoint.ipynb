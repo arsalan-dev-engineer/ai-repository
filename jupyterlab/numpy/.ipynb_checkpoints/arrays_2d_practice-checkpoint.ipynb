{
 "cells": [
  {
   "cell_type": "code",
   "execution_count": 4,
   "id": "68e36a98-39dd-4bd1-8454-59f601cb92ea",
   "metadata": {},
   "outputs": [],
   "source": [
    "import numpy as np"
   ]
  },
  {
   "cell_type": "code",
   "execution_count": 5,
   "id": "d91d3492-b45b-489a-9b7a-076229f7c9f7",
   "metadata": {},
   "outputs": [
    {
     "name": "stdout",
     "output_type": "stream",
     "text": [
      "[[1 2 3]\n",
      " [4 5 6]\n",
      " [7 8 9]]\n"
     ]
    }
   ],
   "source": [
    "# 1. Create a 2-dimensional array\n",
    "taskOne = np.array([\n",
    "    [1, 2, 3],\n",
    "    [4, 5, 6],\n",
    "    [7, 8, 9]\n",
    "])\n",
    "\n",
    "# Print the array\n",
    "print(taskOne)\n"
   ]
  },
  {
   "cell_type": "code",
   "execution_count": 6,
   "id": "b9850d43-92f8-40dc-a311-b71c6eb8afdd",
   "metadata": {},
   "outputs": [
    {
     "name": "stdout",
     "output_type": "stream",
     "text": [
      "60\n"
     ]
    }
   ],
   "source": [
    "# 2. Accessing elements in a 2D array\n",
    "taskTwo = np.array([\n",
    "    [10, 20, 30],\n",
    "    [40, 50, 60],\n",
    "    [70, 80, 90]\n",
    "])\n",
    "\n",
    "# Accessing the element in the second row (index 1), third column (index 2)\n",
    "print(taskTwo[1, 2])  # This should print 60\n",
    "\n",
    "# 1 refers to the second row (indexing starts at 0, so row index 1 is the second row).\n",
    "# 2 refers to the third column in that row.\n"
   ]
  },
  {
   "cell_type": "code",
   "execution_count": 7,
   "id": "3f14f5ab-76cc-47f2-bcb7-5dd816f636ea",
   "metadata": {},
   "outputs": [
    {
     "name": "stdout",
     "output_type": "stream",
     "text": [
      "[[1 2]\n",
      " [4 5]]\n",
      "[[5 6]\n",
      " [8 9]]\n"
     ]
    }
   ],
   "source": [
    "# 3. Slice a 2d array\n",
    "taskThree = np.array([\n",
    "    [1, 2, 3],\n",
    "    [4, 5, 6],\n",
    "    [7, 8, 9]\n",
    "])\n",
    "# Slice the first two rows and the first two columns\n",
    "# Expected Output:\n",
    "# [[1 2]\n",
    "#  [4 5]]\n",
    "\n",
    "print(taskThree[0:2, 0:2])\n",
    "\n",
    "\"\"\"\n",
    "0:2 for rows: It means \"start from row 0 and go up to (but not including) row 2.\"\n",
    "This selects the first two rows (i.e., rows 0 and 1).\n",
    "\n",
    "0:2 for columns: It means \"start from column 0 and go up to (but not including) column 2.\"\n",
    "This selects the first two columns (i.e., columns 0 and 1).\n",
    "\"\"\"\n",
    "\n",
    "print(taskThree[1:3, 1:3])"
   ]
  },
  {
   "cell_type": "code",
   "execution_count": 32,
   "id": "38e437e5-c3f7-4efc-a388-4f6175edd92e",
   "metadata": {},
   "outputs": [
    {
     "ename": "SyntaxError",
     "evalue": "expression cannot contain assignment, perhaps you meant \"==\"? (4015118925.py, line 36)",
     "output_type": "error",
     "traceback": [
      "\u001b[0;36m  Cell \u001b[0;32mIn[32], line 36\u001b[0;36m\u001b[0m\n\u001b[0;31m    print(sliceArrayOne[:, 3]=0)\u001b[0m\n\u001b[0m          ^\u001b[0m\n\u001b[0;31mSyntaxError\u001b[0m\u001b[0;31m:\u001b[0m expression cannot contain assignment, perhaps you meant \"==\"?\n"
     ]
    }
   ],
   "source": [
    "# array with 4 rows & 8 columns\n",
    "sliceArrayOne = np.array([\n",
    "    [1, 2, 3, 4, 5, 6, 7, 8],\n",
    "    [9, 10, 11, 12, 13, 14, 15, 16],\n",
    "    [17, 18, 19, 20, 21, 22, 23, 24],\n",
    "    [25, 26, 27, 28, 29, 30, 31, 32]\n",
    "])\n",
    "\n",
    "print(\"1. Extract the first row\")\n",
    "print(sliceArrayOne[0])\n",
    "\n",
    "print(\"\\n2. Extract last column\")\n",
    "print(sliceArrayOne[:, -1])\n",
    "\n",
    "print(\"\\n3. Extract middle rows\")\n",
    "print(sliceArrayOne[1:3])\n",
    "\n",
    "print(\"\\n4. Extract a sub array\")\n",
    "print(sliceArrayOne[0:2, 0:3])\n",
    "\n",
    "print(\"\\n5. Extract elements greater than 15\")\n",
    "mask = sliceArrayOne > 15\n",
    "greater_than_15 = sliceArrayOne[mask]\n",
    "print(greater_than_15)\n",
    "\n",
    "print(\"\\n6. Reverse the order of rows\")\n",
    "print(sliceArrayOne[::-1])\n",
    "\n",
    "print(\"\\n7. Extract a 2x2 sub-array from the bottom right corner\")\n",
    "print(sliceArrayOne[2:4, 6:9])\n",
    "\n",
    "print(\"\\n8. Extract every second element in each row\")\n",
    "print(sliceArrayOne[:, ::2])\n",
    "\n",
    "print(\"\\n9. Replace the middle element in each row with 0\")\n",
    "sliceArrayOne[:, 3]=0\n",
    "print(sliceArrayOne)\n",
    "\n",
    "print(\"\\n10. Create a 3x3 sub-array from the center\")\n",
    "center_sub_array = sliceArrayOne[1:4, 2:5]\n",
    "print(center_sub_array)\n",
    "\n",
    "print(\"\\n Bonus challenge: Create a boolean mask\")\n",
    "even = sliceArrayOne % 2 == 0\n",
    "even_numbers = sliceArrayOne[even]\n",
    "print(even_numbers)"
   ]
  },
  {
   "cell_type": "code",
   "execution_count": 46,
   "id": "c3380f07-9b48-4b0c-9e22-e94e6b5f43b5",
   "metadata": {},
   "outputs": [
    {
     "name": "stdout",
     "output_type": "stream",
     "text": [
      "90\n"
     ]
    }
   ],
   "source": [
    "# 4. Sum of all elements in a 2d array\n",
    "taskFour = np.array([\n",
    "    [2, 4, 6],\n",
    "    [8, 10, 12],\n",
    "    [14, 16, 18]\n",
    "])\n",
    "# Sum of all elements\n",
    "# Expected Output: 90\n",
    "\n",
    "print(np.sum(taskFour))"
   ]
  },
  {
   "cell_type": "code",
   "execution_count": 56,
   "id": "756a072f-42c5-4006-a619-733cf6645d5e",
   "metadata": {},
   "outputs": [
    {
     "name": "stdout",
     "output_type": "stream",
     "text": [
      "[ 6 15 24]\n",
      "[12 15 18]\n"
     ]
    }
   ],
   "source": [
    "# 5. Row-wise and column-wise sum\n",
    "taskFive = np.array([\n",
    "    [1, 2, 3],\n",
    "    [4, 5, 6],\n",
    "    [7, 8, 9]\n",
    "])\n",
    "# Row-wise sum: [6 15 24]\n",
    "print(np.sum(taskFive, axis=1))\n",
    "\n",
    "# Column-wise sum: [12 15 18]\n",
    "print(np.sum(taskFive, axis=0))"
   ]
  },
  {
   "cell_type": "code",
   "execution_count": null,
   "id": "dd89c5c8-120d-42d1-ba49-92d97dc0e03f",
   "metadata": {},
   "outputs": [],
   "source": [
    "# 6. Reshape a 2d array\n",
    "arr = np.array([1, 2, 3, 4, 5, 6, 7, 8, 9, 10, 11, 12])\n",
    "# Reshape to a 4x3 array\n",
    "# Expected Output:\n",
    "# [[ 1  2  3]\n",
    "#  [ 4  5  6]\n",
    "#  [ 7  8  9]\n",
    "#  [10 11 12]]\n"
   ]
  },
  {
   "cell_type": "code",
   "execution_count": null,
   "id": "b72d8325-b2b3-4ff9-997c-e453f7aa08fd",
   "metadata": {},
   "outputs": [],
   "source": [
    "# 7. Find the max and min of each row\n",
    "arr = np.array([\n",
    "    [2, 8, 1],\n",
    "    [7, 6, 4],\n",
    "    [5, 9, 3]\n",
    "])\n",
    "# Expected Output:\n",
    "# Row-wise max: [8 7 9]\n",
    "# Row-wise min: [1 4 3]\n"
   ]
  },
  {
   "cell_type": "code",
   "execution_count": null,
   "id": "369f46f3-f5dc-4ee0-963c-5ccf14916dde",
   "metadata": {},
   "outputs": [],
   "source": [
    "# 8. Transpose a 2d array\n",
    "arr = np.array([\n",
    "    [1, 2, 3],\n",
    "    [4, 5, 6],\n",
    "    [7, 8, 9]\n",
    "])\n",
    "# Transposed Output:\n",
    "# [[1 4 7]\n",
    "#  [2 5 8]\n",
    "#  [3 6 9]]\n"
   ]
  },
  {
   "cell_type": "code",
   "execution_count": null,
   "id": "422a7d45-3b43-4cc8-bcd3-ec24e9c4942a",
   "metadata": {},
   "outputs": [],
   "source": [
    "# 9. Element-wise Multiplication of Two 2D Arrays"
   ]
  },
  {
   "cell_type": "code",
   "execution_count": null,
   "id": "4b5e4a8d-0c9b-49a1-b9b6-454cfd66f9a9",
   "metadata": {},
   "outputs": [],
   "source": [
    "# 10. Matrix multiplication\n",
    "arr1 = np.array([\n",
    "    [1, 2],\n",
    "    [3, 4],\n",
    "    [5, 6]\n",
    "])\n",
    "arr2 = np.array([\n",
    "    [7, 8],\n",
    "    [9, 10]\n",
    "])\n",
    "# Expected Output:\n",
    "# [[ 25  28]\n",
    "#  [ 57  64]\n",
    "#  [ 89 100]]\n"
   ]
  }
 ],
 "metadata": {
  "kernelspec": {
   "display_name": "Python 3 (ipykernel)",
   "language": "python",
   "name": "python3"
  },
  "language_info": {
   "codemirror_mode": {
    "name": "ipython",
    "version": 3
   },
   "file_extension": ".py",
   "mimetype": "text/x-python",
   "name": "python",
   "nbconvert_exporter": "python",
   "pygments_lexer": "ipython3",
   "version": "3.10.12"
  }
 },
 "nbformat": 4,
 "nbformat_minor": 5
}
