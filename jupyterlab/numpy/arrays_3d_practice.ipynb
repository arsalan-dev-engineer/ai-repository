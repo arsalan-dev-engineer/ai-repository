{
 "cells": [
  {
   "cell_type": "code",
   "execution_count": 1,
   "id": "515ce850-6ed9-4bda-80d0-51fe4eaadcbb",
   "metadata": {},
   "outputs": [],
   "source": [
    "import numpy as np"
   ]
  },
  {
   "cell_type": "code",
   "execution_count": 3,
   "id": "538a30f3-bfb5-4387-934c-5ef917475230",
   "metadata": {},
   "outputs": [
    {
     "ename": "SyntaxError",
     "evalue": "closing parenthesis ']' does not match opening parenthesis '(' on line 1 (3408188978.py, line 6)",
     "output_type": "error",
     "traceback": [
      "\u001b[0;36m  Cell \u001b[0;32mIn[3], line 6\u001b[0;36m\u001b[0m\n\u001b[0;31m    [16, 17, 18]])\u001b[0m\n\u001b[0m                ^\u001b[0m\n\u001b[0;31mSyntaxError\u001b[0m\u001b[0;31m:\u001b[0m closing parenthesis ']' does not match opening parenthesis '(' on line 1\n"
     ]
    }
   ],
   "source": [
    "threeD = np.array([[[1, 2, 3],\n",
    "                    [4, 5, 6]],\n",
    "                   [7, 8, 9],\n",
    "                   [10, 11, 12]],\n",
    "                  [13, 14, 15],\n",
    "                  [16, 17, 18]]])\n",
    "\n",
    "print(threeD)"
   ]
  },
  {
   "cell_type": "code",
   "execution_count": null,
   "id": "5d987bda-a08b-494a-b45d-4c540e7b74e2",
   "metadata": {},
   "outputs": [],
   "source": []
  }
 ],
 "metadata": {
  "kernelspec": {
   "display_name": "Python 3 (ipykernel)",
   "language": "python",
   "name": "python3"
  },
  "language_info": {
   "codemirror_mode": {
    "name": "ipython",
    "version": 3
   },
   "file_extension": ".py",
   "mimetype": "text/x-python",
   "name": "python",
   "nbconvert_exporter": "python",
   "pygments_lexer": "ipython3",
   "version": "3.10.12"
  }
 },
 "nbformat": 4,
 "nbformat_minor": 5
}
