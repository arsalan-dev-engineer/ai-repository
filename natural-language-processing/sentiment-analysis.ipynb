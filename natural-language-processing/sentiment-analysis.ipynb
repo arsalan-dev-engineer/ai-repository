{
 "cells": [
  {
   "cell_type": "markdown",
   "id": "10eea3c6-5117-4a7e-bf06-09da89f001a7",
   "metadata": {},
   "source": [
    "#### **Understanding Sentiment Analysis with TextBlob**\n",
    "\n",
    "Summary\n",
    "* **Sentiment Analysis**: Determines the emotional tone of text (positive, negative, or neutral).\n",
    "* **Polarity**: Measures sentiment's strength and direction (ranges from -1 to 1).\n",
    "* **Subjectivity**: Measures how subjective or opinion-based the text is (from 0 to 1).\n",
    "\n",
    "TextBlob Library:\n",
    "* **What it does**: TextBlob is a simple Python library for text processing. It performs sentiment analysis by calculating polarity and subjectivity, helping to classify text as positive, negative, or neutral.\n",
    "\n",
    "Example:\n",
    "* **Positive text**: \"I love this phone!\" → Polarity = 0.5 (Positive)\n",
    "* **Negative text**: \"I hate this phone!\" → Polarity = -0.6 (Negative)\n",
    "* **Neutral text**: \"The phone is black.\" → Polarity = 0.0 (Neutral)\n",
    "\n",
    "TextBlob simplifies sentiment analysis for tasks like opinion mining, customer feedback, and social media analysis.\n",
    "\n",
    "Relation to NLP:\n",
    "* **NLP (Natural Language Processing)** is a branch of AI that enables machines to understand, interpret, and generate human language. Sentiment analysis, which involves determining the emotional tone of text, is a core task within NLP. Libraries like TextBlob simplify sentiment analysis, allowing machines to classify text as positive, negative, or neutral based on its content."
   ]
  },
  {
   "cell_type": "code",
   "execution_count": 16,
   "id": "5d6e09ae-a2d3-46f9-a10d-88b2bf07c85f",
   "metadata": {},
   "outputs": [],
   "source": [
    "# import required libraries\n",
    "from textblob import TextBlob\n",
    "from rich.console import Console\n",
    "from rich.text import Text"
   ]
  },
  {
   "cell_type": "code",
   "execution_count": 17,
   "id": "3a464d54-3604-4aa0-bd19-b865a7029d53",
   "metadata": {},
   "outputs": [
    {
     "name": "stdout",
     "output_type": "stream",
     "text": [
      "Sentiment Analysis Results:\n",
      "\n"
     ]
    },
    {
     "data": {
      "text/html": [
       "<pre style=\"white-space:pre;overflow-x:auto;line-height:normal;font-family:Menlo,'DejaVu Sans Mono',consolas,'Courier New',monospace\">Text:\n",
       "I absolutely love this new phone! It's amazing.\n",
       "\n",
       "</pre>\n"
      ],
      "text/plain": [
       "Text:\n",
       "I absolutely love this new phone! It's amazing.\n",
       "\n"
      ]
     },
     "metadata": {},
     "output_type": "display_data"
    },
    {
     "data": {
      "text/html": [
       "<pre style=\"white-space:pre;overflow-x:auto;line-height:normal;font-family:Menlo,'DejaVu Sans Mono',consolas,'Courier New',monospace\">Polarity:\n",
       "<span style=\"color: #008080; text-decoration-color: #008080; font-weight: bold\">0.42</span> <span style=\"font-weight: bold\">(</span>Range: <span style=\"color: #008080; text-decoration-color: #008080; font-weight: bold\">-1</span> to <span style=\"color: #008080; text-decoration-color: #008080; font-weight: bold\">1</span>, where <span style=\"color: #008080; text-decoration-color: #008080; font-weight: bold\">1</span> is very positive, <span style=\"color: #008080; text-decoration-color: #008080; font-weight: bold\">-1</span> is very negative<span style=\"font-weight: bold\">)</span>\n",
       "\n",
       "</pre>\n"
      ],
      "text/plain": [
       "Polarity:\n",
       "\u001b[1;36m0.42\u001b[0m \u001b[1m(\u001b[0mRange: \u001b[1;36m-1\u001b[0m to \u001b[1;36m1\u001b[0m, where \u001b[1;36m1\u001b[0m is very positive, \u001b[1;36m-1\u001b[0m is very negative\u001b[1m)\u001b[0m\n",
       "\n"
      ]
     },
     "metadata": {},
     "output_type": "display_data"
    },
    {
     "data": {
      "text/html": [
       "<pre style=\"white-space:pre;overflow-x:auto;line-height:normal;font-family:Menlo,'DejaVu Sans Mono',consolas,'Courier New',monospace\">Subjectivity:\n",
       "<span style=\"color: #008080; text-decoration-color: #008080; font-weight: bold\">0.65</span> <span style=\"font-weight: bold\">(</span>Range: <span style=\"color: #008080; text-decoration-color: #008080; font-weight: bold\">0</span> to <span style=\"color: #008080; text-decoration-color: #008080; font-weight: bold\">1</span>, where <span style=\"color: #008080; text-decoration-color: #008080; font-weight: bold\">1</span> is very subjective and <span style=\"color: #008080; text-decoration-color: #008080; font-weight: bold\">0</span> is objective<span style=\"font-weight: bold\">)</span>\n",
       "\n",
       "</pre>\n"
      ],
      "text/plain": [
       "Subjectivity:\n",
       "\u001b[1;36m0.65\u001b[0m \u001b[1m(\u001b[0mRange: \u001b[1;36m0\u001b[0m to \u001b[1;36m1\u001b[0m, where \u001b[1;36m1\u001b[0m is very subjective and \u001b[1;36m0\u001b[0m is objective\u001b[1m)\u001b[0m\n",
       "\n"
      ]
     },
     "metadata": {},
     "output_type": "display_data"
    },
    {
     "data": {
      "text/html": [
       "<pre style=\"white-space:pre;overflow-x:auto;line-height:normal;font-family:Menlo,'DejaVu Sans Mono',consolas,'Courier New',monospace\">Sentiment: Positive\n",
       "</pre>\n"
      ],
      "text/plain": [
       "Sentiment: Positive\n"
      ]
     },
     "metadata": {},
     "output_type": "display_data"
    }
   ],
   "source": [
    "# Create an object from rich Console\n",
    "console = Console()\n",
    "\n",
    "# Input paragraph\n",
    "paragraph = \"I absolutely love this new phone! It's amazing.\"\n",
    "\n",
    "# Create a TextBlob object\n",
    "blob = TextBlob(paragraph)\n",
    "\n",
    "# Perform sentiment analysis\n",
    "sentiment = blob.sentiment\n",
    "\n",
    "# Format polarity and subjectivity to 2 decimal places\n",
    "polarity = round(sentiment.polarity, 2)\n",
    "subjectivity = round(sentiment.subjectivity, 2)\n",
    "\n",
    "# Display the results clearly with styled words using console.print\n",
    "print(\"Sentiment Analysis Results:\\n\")\n",
    "console.print(f\"{Text('Text:', style='bold red')}\\n{paragraph}\\n\")\n",
    "console.print(f\"{Text('Polarity:', style='bold red')}\\n{polarity} (Range: -1 to 1, where 1 is very positive, -1 is very negative)\\n\")\n",
    "console.print(f\"{Text('Subjectivity:', style='bold red')}\\n{subjectivity} (Range: 0 to 1, where 1 is very subjective and 0 is objective)\\n\")\n",
    "\n",
    "# Interpretation based on polarity\n",
    "if polarity > 0:\n",
    "    sentiment_type = \"Positive\"\n",
    "elif polarity < 0:\n",
    "    sentiment_type = \"Negative\"\n",
    "else:\n",
    "    sentiment_type = \"Neutral\"\n",
    "\n",
    "console.print(f\"{Text('Sentiment:', style='bold red')} {sentiment_type}\")\n"
   ]
  },
  {
   "cell_type": "code",
   "execution_count": null,
   "id": "7aecbc1e-e89b-4cc3-a31b-9895b9a57f75",
   "metadata": {},
   "outputs": [],
   "source": []
  }
 ],
 "metadata": {
  "kernelspec": {
   "display_name": "Python 3 (ipykernel)",
   "language": "python",
   "name": "python3"
  },
  "language_info": {
   "codemirror_mode": {
    "name": "ipython",
    "version": 3
   },
   "file_extension": ".py",
   "mimetype": "text/x-python",
   "name": "python",
   "nbconvert_exporter": "python",
   "pygments_lexer": "ipython3",
   "version": "3.9.0"
  }
 },
 "nbformat": 4,
 "nbformat_minor": 5
}
